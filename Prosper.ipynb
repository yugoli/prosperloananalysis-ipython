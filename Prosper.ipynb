{
 "cells": [
  {
   "cell_type": "code",
   "execution_count": 121,
   "metadata": {
    "collapsed": false
   },
   "outputs": [],
   "source": [
    "import pandas as pd\n",
    "import numpy as np\n",
    "import matplotlib.pylab as plt\n",
    "from sklearn import preprocessing\n",
    "from scipy.stats import skew\n",
    "from scipy.stats import boxcox\n",
    "from sklearn.ensemble import RandomForestClassifier \n",
    "import seaborn as sns\n",
    "\n",
    "%matplotlib inline\n"
   ]
  },
  {
   "cell_type": "code",
   "execution_count": 122,
   "metadata": {
    "collapsed": true
   },
   "outputs": [],
   "source": [
    "# https://www.prosper.com/welcome/fee_history.aspx\n",
    "# prosper makes money from the closing fee upfront from borrower (BorrowerRate - LenderYield) * LoanAmount \n",
    "# and the servicing fee from the lender (LP_ServiceFees)\n",
    "# late fee from the borrower is passed onto the lender \n",
    "# collection fee from the agency is passed onto the lender"
   ]
  },
  {
   "cell_type": "code",
   "execution_count": 123,
   "metadata": {
    "collapsed": true
   },
   "outputs": [],
   "source": [
    "df = pd.read_csv(\"prosperLoanData.csv\") #Reading the dataset in a dataframe using Pandas"
   ]
  },
  {
   "cell_type": "code",
   "execution_count": 124,
   "metadata": {
    "collapsed": false,
    "scrolled": true
   },
   "outputs": [
    {
     "data": {
      "text/html": [
       "<div>\n",
       "<table border=\"1\" class=\"dataframe\">\n",
       "  <thead>\n",
       "    <tr style=\"text-align: right;\">\n",
       "      <th></th>\n",
       "      <th>ListingKey</th>\n",
       "      <th>ListingNumber</th>\n",
       "      <th>ListingCreationDate</th>\n",
       "      <th>CreditGrade</th>\n",
       "      <th>Term</th>\n",
       "      <th>LoanStatus</th>\n",
       "      <th>ClosedDate</th>\n",
       "      <th>BorrowerAPR</th>\n",
       "      <th>BorrowerRate</th>\n",
       "      <th>LenderYield</th>\n",
       "      <th>...</th>\n",
       "      <th>LP_ServiceFees</th>\n",
       "      <th>LP_CollectionFees</th>\n",
       "      <th>LP_GrossPrincipalLoss</th>\n",
       "      <th>LP_NetPrincipalLoss</th>\n",
       "      <th>LP_NonPrincipalRecoverypayments</th>\n",
       "      <th>PercentFunded</th>\n",
       "      <th>Recommendations</th>\n",
       "      <th>InvestmentFromFriendsCount</th>\n",
       "      <th>InvestmentFromFriendsAmount</th>\n",
       "      <th>Investors</th>\n",
       "    </tr>\n",
       "  </thead>\n",
       "  <tbody>\n",
       "    <tr>\n",
       "      <th>0</th>\n",
       "      <td>1021339766868145413AB3B</td>\n",
       "      <td>193129</td>\n",
       "      <td>2007-08-26 19:09:29.263000000</td>\n",
       "      <td>C</td>\n",
       "      <td>36</td>\n",
       "      <td>Completed</td>\n",
       "      <td>2009-08-14 00:00:00</td>\n",
       "      <td>0.16516</td>\n",
       "      <td>0.1580</td>\n",
       "      <td>0.1380</td>\n",
       "      <td>...</td>\n",
       "      <td>-133.18</td>\n",
       "      <td>0.0</td>\n",
       "      <td>0.0</td>\n",
       "      <td>0.0</td>\n",
       "      <td>0.0</td>\n",
       "      <td>1.0</td>\n",
       "      <td>0</td>\n",
       "      <td>0</td>\n",
       "      <td>0.0</td>\n",
       "      <td>258</td>\n",
       "    </tr>\n",
       "    <tr>\n",
       "      <th>1</th>\n",
       "      <td>10273602499503308B223C1</td>\n",
       "      <td>1209647</td>\n",
       "      <td>2014-02-27 08:28:07.900000000</td>\n",
       "      <td>NaN</td>\n",
       "      <td>36</td>\n",
       "      <td>Current</td>\n",
       "      <td>NaN</td>\n",
       "      <td>0.12016</td>\n",
       "      <td>0.0920</td>\n",
       "      <td>0.0820</td>\n",
       "      <td>...</td>\n",
       "      <td>0.00</td>\n",
       "      <td>0.0</td>\n",
       "      <td>0.0</td>\n",
       "      <td>0.0</td>\n",
       "      <td>0.0</td>\n",
       "      <td>1.0</td>\n",
       "      <td>0</td>\n",
       "      <td>0</td>\n",
       "      <td>0.0</td>\n",
       "      <td>1</td>\n",
       "    </tr>\n",
       "    <tr>\n",
       "      <th>2</th>\n",
       "      <td>0EE9337825851032864889A</td>\n",
       "      <td>81716</td>\n",
       "      <td>2007-01-05 15:00:47.090000000</td>\n",
       "      <td>HR</td>\n",
       "      <td>36</td>\n",
       "      <td>Completed</td>\n",
       "      <td>2009-12-17 00:00:00</td>\n",
       "      <td>0.28269</td>\n",
       "      <td>0.2750</td>\n",
       "      <td>0.2400</td>\n",
       "      <td>...</td>\n",
       "      <td>-24.20</td>\n",
       "      <td>0.0</td>\n",
       "      <td>0.0</td>\n",
       "      <td>0.0</td>\n",
       "      <td>0.0</td>\n",
       "      <td>1.0</td>\n",
       "      <td>0</td>\n",
       "      <td>0</td>\n",
       "      <td>0.0</td>\n",
       "      <td>41</td>\n",
       "    </tr>\n",
       "    <tr>\n",
       "      <th>3</th>\n",
       "      <td>0EF5356002482715299901A</td>\n",
       "      <td>658116</td>\n",
       "      <td>2012-10-22 11:02:35.010000000</td>\n",
       "      <td>NaN</td>\n",
       "      <td>36</td>\n",
       "      <td>Current</td>\n",
       "      <td>NaN</td>\n",
       "      <td>0.12528</td>\n",
       "      <td>0.0974</td>\n",
       "      <td>0.0874</td>\n",
       "      <td>...</td>\n",
       "      <td>-108.01</td>\n",
       "      <td>0.0</td>\n",
       "      <td>0.0</td>\n",
       "      <td>0.0</td>\n",
       "      <td>0.0</td>\n",
       "      <td>1.0</td>\n",
       "      <td>0</td>\n",
       "      <td>0</td>\n",
       "      <td>0.0</td>\n",
       "      <td>158</td>\n",
       "    </tr>\n",
       "    <tr>\n",
       "      <th>4</th>\n",
       "      <td>0F023589499656230C5E3E2</td>\n",
       "      <td>909464</td>\n",
       "      <td>2013-09-14 18:38:39.097000000</td>\n",
       "      <td>NaN</td>\n",
       "      <td>36</td>\n",
       "      <td>Current</td>\n",
       "      <td>NaN</td>\n",
       "      <td>0.24614</td>\n",
       "      <td>0.2085</td>\n",
       "      <td>0.1985</td>\n",
       "      <td>...</td>\n",
       "      <td>-60.27</td>\n",
       "      <td>0.0</td>\n",
       "      <td>0.0</td>\n",
       "      <td>0.0</td>\n",
       "      <td>0.0</td>\n",
       "      <td>1.0</td>\n",
       "      <td>0</td>\n",
       "      <td>0</td>\n",
       "      <td>0.0</td>\n",
       "      <td>20</td>\n",
       "    </tr>\n",
       "  </tbody>\n",
       "</table>\n",
       "<p>5 rows × 81 columns</p>\n",
       "</div>"
      ],
      "text/plain": [
       "                ListingKey  ListingNumber            ListingCreationDate  \\\n",
       "0  1021339766868145413AB3B         193129  2007-08-26 19:09:29.263000000   \n",
       "1  10273602499503308B223C1        1209647  2014-02-27 08:28:07.900000000   \n",
       "2  0EE9337825851032864889A          81716  2007-01-05 15:00:47.090000000   \n",
       "3  0EF5356002482715299901A         658116  2012-10-22 11:02:35.010000000   \n",
       "4  0F023589499656230C5E3E2         909464  2013-09-14 18:38:39.097000000   \n",
       "\n",
       "  CreditGrade  Term LoanStatus           ClosedDate  BorrowerAPR  \\\n",
       "0           C    36  Completed  2009-08-14 00:00:00      0.16516   \n",
       "1         NaN    36    Current                  NaN      0.12016   \n",
       "2          HR    36  Completed  2009-12-17 00:00:00      0.28269   \n",
       "3         NaN    36    Current                  NaN      0.12528   \n",
       "4         NaN    36    Current                  NaN      0.24614   \n",
       "\n",
       "   BorrowerRate  LenderYield    ...     LP_ServiceFees  LP_CollectionFees  \\\n",
       "0        0.1580       0.1380    ...            -133.18                0.0   \n",
       "1        0.0920       0.0820    ...               0.00                0.0   \n",
       "2        0.2750       0.2400    ...             -24.20                0.0   \n",
       "3        0.0974       0.0874    ...            -108.01                0.0   \n",
       "4        0.2085       0.1985    ...             -60.27                0.0   \n",
       "\n",
       "   LP_GrossPrincipalLoss  LP_NetPrincipalLoss LP_NonPrincipalRecoverypayments  \\\n",
       "0                    0.0                  0.0                             0.0   \n",
       "1                    0.0                  0.0                             0.0   \n",
       "2                    0.0                  0.0                             0.0   \n",
       "3                    0.0                  0.0                             0.0   \n",
       "4                    0.0                  0.0                             0.0   \n",
       "\n",
       "   PercentFunded  Recommendations InvestmentFromFriendsCount  \\\n",
       "0            1.0                0                          0   \n",
       "1            1.0                0                          0   \n",
       "2            1.0                0                          0   \n",
       "3            1.0                0                          0   \n",
       "4            1.0                0                          0   \n",
       "\n",
       "  InvestmentFromFriendsAmount Investors  \n",
       "0                         0.0       258  \n",
       "1                         0.0         1  \n",
       "2                         0.0        41  \n",
       "3                         0.0       158  \n",
       "4                         0.0        20  \n",
       "\n",
       "[5 rows x 81 columns]"
      ]
     },
     "execution_count": 124,
     "metadata": {},
     "output_type": "execute_result"
    }
   ],
   "source": [
    "df.head()"
   ]
  },
  {
   "cell_type": "code",
   "execution_count": 125,
   "metadata": {
    "collapsed": false
   },
   "outputs": [
    {
     "data": {
      "text/html": [
       "<div>\n",
       "<table border=\"1\" class=\"dataframe\">\n",
       "  <thead>\n",
       "    <tr style=\"text-align: right;\">\n",
       "      <th></th>\n",
       "      <th>ListingNumber</th>\n",
       "      <th>Term</th>\n",
       "      <th>BorrowerAPR</th>\n",
       "      <th>BorrowerRate</th>\n",
       "      <th>LenderYield</th>\n",
       "      <th>EstimatedEffectiveYield</th>\n",
       "      <th>EstimatedLoss</th>\n",
       "      <th>EstimatedReturn</th>\n",
       "      <th>ProsperRating (numeric)</th>\n",
       "      <th>ProsperScore</th>\n",
       "      <th>...</th>\n",
       "      <th>LP_ServiceFees</th>\n",
       "      <th>LP_CollectionFees</th>\n",
       "      <th>LP_GrossPrincipalLoss</th>\n",
       "      <th>LP_NetPrincipalLoss</th>\n",
       "      <th>LP_NonPrincipalRecoverypayments</th>\n",
       "      <th>PercentFunded</th>\n",
       "      <th>Recommendations</th>\n",
       "      <th>InvestmentFromFriendsCount</th>\n",
       "      <th>InvestmentFromFriendsAmount</th>\n",
       "      <th>Investors</th>\n",
       "    </tr>\n",
       "  </thead>\n",
       "  <tbody>\n",
       "    <tr>\n",
       "      <th>count</th>\n",
       "      <td>1.139370e+05</td>\n",
       "      <td>113937.000000</td>\n",
       "      <td>113912.000000</td>\n",
       "      <td>113937.000000</td>\n",
       "      <td>113937.000000</td>\n",
       "      <td>84853.000000</td>\n",
       "      <td>84853.000000</td>\n",
       "      <td>84853.000000</td>\n",
       "      <td>84853.000000</td>\n",
       "      <td>84853.000000</td>\n",
       "      <td>...</td>\n",
       "      <td>113937.000000</td>\n",
       "      <td>113937.000000</td>\n",
       "      <td>113937.000000</td>\n",
       "      <td>113937.000000</td>\n",
       "      <td>113937.000000</td>\n",
       "      <td>113937.000000</td>\n",
       "      <td>113937.000000</td>\n",
       "      <td>113937.000000</td>\n",
       "      <td>113937.000000</td>\n",
       "      <td>113937.000000</td>\n",
       "    </tr>\n",
       "    <tr>\n",
       "      <th>mean</th>\n",
       "      <td>6.278857e+05</td>\n",
       "      <td>40.830248</td>\n",
       "      <td>0.218828</td>\n",
       "      <td>0.192764</td>\n",
       "      <td>0.182701</td>\n",
       "      <td>0.168661</td>\n",
       "      <td>0.080306</td>\n",
       "      <td>0.096068</td>\n",
       "      <td>4.072243</td>\n",
       "      <td>5.950067</td>\n",
       "      <td>...</td>\n",
       "      <td>-54.725641</td>\n",
       "      <td>-14.242698</td>\n",
       "      <td>700.446342</td>\n",
       "      <td>681.420499</td>\n",
       "      <td>25.142686</td>\n",
       "      <td>0.998584</td>\n",
       "      <td>0.048027</td>\n",
       "      <td>0.023460</td>\n",
       "      <td>16.550751</td>\n",
       "      <td>80.475228</td>\n",
       "    </tr>\n",
       "    <tr>\n",
       "      <th>std</th>\n",
       "      <td>3.280762e+05</td>\n",
       "      <td>10.436212</td>\n",
       "      <td>0.080364</td>\n",
       "      <td>0.074818</td>\n",
       "      <td>0.074516</td>\n",
       "      <td>0.068467</td>\n",
       "      <td>0.046764</td>\n",
       "      <td>0.030403</td>\n",
       "      <td>1.673227</td>\n",
       "      <td>2.376501</td>\n",
       "      <td>...</td>\n",
       "      <td>60.675425</td>\n",
       "      <td>109.232758</td>\n",
       "      <td>2388.513831</td>\n",
       "      <td>2357.167068</td>\n",
       "      <td>275.657937</td>\n",
       "      <td>0.017919</td>\n",
       "      <td>0.332353</td>\n",
       "      <td>0.232412</td>\n",
       "      <td>294.545422</td>\n",
       "      <td>103.239020</td>\n",
       "    </tr>\n",
       "    <tr>\n",
       "      <th>min</th>\n",
       "      <td>4.000000e+00</td>\n",
       "      <td>12.000000</td>\n",
       "      <td>0.006530</td>\n",
       "      <td>0.000000</td>\n",
       "      <td>-0.010000</td>\n",
       "      <td>-0.182700</td>\n",
       "      <td>0.004900</td>\n",
       "      <td>-0.182700</td>\n",
       "      <td>1.000000</td>\n",
       "      <td>1.000000</td>\n",
       "      <td>...</td>\n",
       "      <td>-664.870000</td>\n",
       "      <td>-9274.750000</td>\n",
       "      <td>-94.200000</td>\n",
       "      <td>-954.550000</td>\n",
       "      <td>0.000000</td>\n",
       "      <td>0.700000</td>\n",
       "      <td>0.000000</td>\n",
       "      <td>0.000000</td>\n",
       "      <td>0.000000</td>\n",
       "      <td>1.000000</td>\n",
       "    </tr>\n",
       "    <tr>\n",
       "      <th>25%</th>\n",
       "      <td>4.009190e+05</td>\n",
       "      <td>36.000000</td>\n",
       "      <td>0.156290</td>\n",
       "      <td>0.134000</td>\n",
       "      <td>0.124200</td>\n",
       "      <td>0.115670</td>\n",
       "      <td>0.042400</td>\n",
       "      <td>0.074080</td>\n",
       "      <td>3.000000</td>\n",
       "      <td>4.000000</td>\n",
       "      <td>...</td>\n",
       "      <td>-73.180000</td>\n",
       "      <td>0.000000</td>\n",
       "      <td>0.000000</td>\n",
       "      <td>0.000000</td>\n",
       "      <td>0.000000</td>\n",
       "      <td>1.000000</td>\n",
       "      <td>0.000000</td>\n",
       "      <td>0.000000</td>\n",
       "      <td>0.000000</td>\n",
       "      <td>2.000000</td>\n",
       "    </tr>\n",
       "    <tr>\n",
       "      <th>50%</th>\n",
       "      <td>6.005540e+05</td>\n",
       "      <td>36.000000</td>\n",
       "      <td>0.209760</td>\n",
       "      <td>0.184000</td>\n",
       "      <td>0.173000</td>\n",
       "      <td>0.161500</td>\n",
       "      <td>0.072400</td>\n",
       "      <td>0.091700</td>\n",
       "      <td>4.000000</td>\n",
       "      <td>6.000000</td>\n",
       "      <td>...</td>\n",
       "      <td>-34.440000</td>\n",
       "      <td>0.000000</td>\n",
       "      <td>0.000000</td>\n",
       "      <td>0.000000</td>\n",
       "      <td>0.000000</td>\n",
       "      <td>1.000000</td>\n",
       "      <td>0.000000</td>\n",
       "      <td>0.000000</td>\n",
       "      <td>0.000000</td>\n",
       "      <td>44.000000</td>\n",
       "    </tr>\n",
       "    <tr>\n",
       "      <th>75%</th>\n",
       "      <td>8.926340e+05</td>\n",
       "      <td>36.000000</td>\n",
       "      <td>0.283810</td>\n",
       "      <td>0.250000</td>\n",
       "      <td>0.240000</td>\n",
       "      <td>0.224300</td>\n",
       "      <td>0.112000</td>\n",
       "      <td>0.116600</td>\n",
       "      <td>5.000000</td>\n",
       "      <td>8.000000</td>\n",
       "      <td>...</td>\n",
       "      <td>-13.920000</td>\n",
       "      <td>0.000000</td>\n",
       "      <td>0.000000</td>\n",
       "      <td>0.000000</td>\n",
       "      <td>0.000000</td>\n",
       "      <td>1.000000</td>\n",
       "      <td>0.000000</td>\n",
       "      <td>0.000000</td>\n",
       "      <td>0.000000</td>\n",
       "      <td>115.000000</td>\n",
       "    </tr>\n",
       "    <tr>\n",
       "      <th>max</th>\n",
       "      <td>1.255725e+06</td>\n",
       "      <td>60.000000</td>\n",
       "      <td>0.512290</td>\n",
       "      <td>0.497500</td>\n",
       "      <td>0.492500</td>\n",
       "      <td>0.319900</td>\n",
       "      <td>0.366000</td>\n",
       "      <td>0.283700</td>\n",
       "      <td>7.000000</td>\n",
       "      <td>11.000000</td>\n",
       "      <td>...</td>\n",
       "      <td>32.060000</td>\n",
       "      <td>0.000000</td>\n",
       "      <td>25000.000000</td>\n",
       "      <td>25000.000000</td>\n",
       "      <td>21117.900000</td>\n",
       "      <td>1.012500</td>\n",
       "      <td>39.000000</td>\n",
       "      <td>33.000000</td>\n",
       "      <td>25000.000000</td>\n",
       "      <td>1189.000000</td>\n",
       "    </tr>\n",
       "  </tbody>\n",
       "</table>\n",
       "<p>8 rows × 61 columns</p>\n",
       "</div>"
      ],
      "text/plain": [
       "       ListingNumber           Term    BorrowerAPR   BorrowerRate  \\\n",
       "count   1.139370e+05  113937.000000  113912.000000  113937.000000   \n",
       "mean    6.278857e+05      40.830248       0.218828       0.192764   \n",
       "std     3.280762e+05      10.436212       0.080364       0.074818   \n",
       "min     4.000000e+00      12.000000       0.006530       0.000000   \n",
       "25%     4.009190e+05      36.000000       0.156290       0.134000   \n",
       "50%     6.005540e+05      36.000000       0.209760       0.184000   \n",
       "75%     8.926340e+05      36.000000       0.283810       0.250000   \n",
       "max     1.255725e+06      60.000000       0.512290       0.497500   \n",
       "\n",
       "         LenderYield  EstimatedEffectiveYield  EstimatedLoss  EstimatedReturn  \\\n",
       "count  113937.000000             84853.000000   84853.000000     84853.000000   \n",
       "mean        0.182701                 0.168661       0.080306         0.096068   \n",
       "std         0.074516                 0.068467       0.046764         0.030403   \n",
       "min        -0.010000                -0.182700       0.004900        -0.182700   \n",
       "25%         0.124200                 0.115670       0.042400         0.074080   \n",
       "50%         0.173000                 0.161500       0.072400         0.091700   \n",
       "75%         0.240000                 0.224300       0.112000         0.116600   \n",
       "max         0.492500                 0.319900       0.366000         0.283700   \n",
       "\n",
       "       ProsperRating (numeric)  ProsperScore      ...        LP_ServiceFees  \\\n",
       "count             84853.000000  84853.000000      ...         113937.000000   \n",
       "mean                  4.072243      5.950067      ...            -54.725641   \n",
       "std                   1.673227      2.376501      ...             60.675425   \n",
       "min                   1.000000      1.000000      ...           -664.870000   \n",
       "25%                   3.000000      4.000000      ...            -73.180000   \n",
       "50%                   4.000000      6.000000      ...            -34.440000   \n",
       "75%                   5.000000      8.000000      ...            -13.920000   \n",
       "max                   7.000000     11.000000      ...             32.060000   \n",
       "\n",
       "       LP_CollectionFees  LP_GrossPrincipalLoss  LP_NetPrincipalLoss  \\\n",
       "count      113937.000000          113937.000000        113937.000000   \n",
       "mean          -14.242698             700.446342           681.420499   \n",
       "std           109.232758            2388.513831          2357.167068   \n",
       "min         -9274.750000             -94.200000          -954.550000   \n",
       "25%             0.000000               0.000000             0.000000   \n",
       "50%             0.000000               0.000000             0.000000   \n",
       "75%             0.000000               0.000000             0.000000   \n",
       "max             0.000000           25000.000000         25000.000000   \n",
       "\n",
       "       LP_NonPrincipalRecoverypayments  PercentFunded  Recommendations  \\\n",
       "count                    113937.000000  113937.000000    113937.000000   \n",
       "mean                         25.142686       0.998584         0.048027   \n",
       "std                         275.657937       0.017919         0.332353   \n",
       "min                           0.000000       0.700000         0.000000   \n",
       "25%                           0.000000       1.000000         0.000000   \n",
       "50%                           0.000000       1.000000         0.000000   \n",
       "75%                           0.000000       1.000000         0.000000   \n",
       "max                       21117.900000       1.012500        39.000000   \n",
       "\n",
       "       InvestmentFromFriendsCount  InvestmentFromFriendsAmount      Investors  \n",
       "count               113937.000000                113937.000000  113937.000000  \n",
       "mean                     0.023460                    16.550751      80.475228  \n",
       "std                      0.232412                   294.545422     103.239020  \n",
       "min                      0.000000                     0.000000       1.000000  \n",
       "25%                      0.000000                     0.000000       2.000000  \n",
       "50%                      0.000000                     0.000000      44.000000  \n",
       "75%                      0.000000                     0.000000     115.000000  \n",
       "max                     33.000000                 25000.000000    1189.000000  \n",
       "\n",
       "[8 rows x 61 columns]"
      ]
     },
     "execution_count": 125,
     "metadata": {},
     "output_type": "execute_result"
    }
   ],
   "source": [
    "df.describe()"
   ]
  },
  {
   "cell_type": "code",
   "execution_count": 126,
   "metadata": {
    "collapsed": false
   },
   "outputs": [
    {
     "data": {
      "text/plain": [
       "ListingKey                              object\n",
       "ListingNumber                            int64\n",
       "ListingCreationDate                     object\n",
       "CreditGrade                             object\n",
       "Term                                     int64\n",
       "LoanStatus                              object\n",
       "ClosedDate                              object\n",
       "BorrowerAPR                            float64\n",
       "BorrowerRate                           float64\n",
       "LenderYield                            float64\n",
       "EstimatedEffectiveYield                float64\n",
       "EstimatedLoss                          float64\n",
       "EstimatedReturn                        float64\n",
       "ProsperRating (numeric)                float64\n",
       "ProsperRating (Alpha)                   object\n",
       "ProsperScore                           float64\n",
       "ListingCategory (numeric)                int64\n",
       "BorrowerState                           object\n",
       "Occupation                              object\n",
       "EmploymentStatus                        object\n",
       "EmploymentStatusDuration               float64\n",
       "IsBorrowerHomeowner                       bool\n",
       "CurrentlyInGroup                          bool\n",
       "GroupKey                                object\n",
       "DateCreditPulled                        object\n",
       "CreditScoreRangeLower                  float64\n",
       "CreditScoreRangeUpper                  float64\n",
       "FirstRecordedCreditLine                 object\n",
       "CurrentCreditLines                     float64\n",
       "OpenCreditLines                        float64\n",
       "                                        ...   \n",
       "TotalProsperLoans                      float64\n",
       "TotalProsperPaymentsBilled             float64\n",
       "OnTimeProsperPayments                  float64\n",
       "ProsperPaymentsLessThanOneMonthLate    float64\n",
       "ProsperPaymentsOneMonthPlusLate        float64\n",
       "ProsperPrincipalBorrowed               float64\n",
       "ProsperPrincipalOutstanding            float64\n",
       "ScorexChangeAtTimeOfListing            float64\n",
       "LoanCurrentDaysDelinquent                int64\n",
       "LoanFirstDefaultedCycleNumber          float64\n",
       "LoanMonthsSinceOrigination               int64\n",
       "LoanNumber                               int64\n",
       "LoanOriginalAmount                       int64\n",
       "LoanOriginationDate                     object\n",
       "LoanOriginationQuarter                  object\n",
       "MemberKey                               object\n",
       "MonthlyLoanPayment                     float64\n",
       "LP_CustomerPayments                    float64\n",
       "LP_CustomerPrincipalPayments           float64\n",
       "LP_InterestandFees                     float64\n",
       "LP_ServiceFees                         float64\n",
       "LP_CollectionFees                      float64\n",
       "LP_GrossPrincipalLoss                  float64\n",
       "LP_NetPrincipalLoss                    float64\n",
       "LP_NonPrincipalRecoverypayments        float64\n",
       "PercentFunded                          float64\n",
       "Recommendations                          int64\n",
       "InvestmentFromFriendsCount               int64\n",
       "InvestmentFromFriendsAmount            float64\n",
       "Investors                                int64\n",
       "dtype: object"
      ]
     },
     "execution_count": 126,
     "metadata": {},
     "output_type": "execute_result"
    }
   ],
   "source": [
    "df.dtypes"
   ]
  },
  {
   "cell_type": "code",
   "execution_count": 127,
   "metadata": {
    "collapsed": false
   },
   "outputs": [
    {
     "name": "stdout",
     "output_type": "stream",
     "text": [
      "<class 'pandas.core.frame.DataFrame'>\n",
      "RangeIndex: 113937 entries, 0 to 113936\n",
      "Data columns (total 81 columns):\n",
      "ListingKey                             113937 non-null object\n",
      "ListingNumber                          113937 non-null int64\n",
      "ListingCreationDate                    113937 non-null object\n",
      "CreditGrade                            28953 non-null object\n",
      "Term                                   113937 non-null int64\n",
      "LoanStatus                             113937 non-null object\n",
      "ClosedDate                             55089 non-null object\n",
      "BorrowerAPR                            113912 non-null float64\n",
      "BorrowerRate                           113937 non-null float64\n",
      "LenderYield                            113937 non-null float64\n",
      "EstimatedEffectiveYield                84853 non-null float64\n",
      "EstimatedLoss                          84853 non-null float64\n",
      "EstimatedReturn                        84853 non-null float64\n",
      "ProsperRating (numeric)                84853 non-null float64\n",
      "ProsperRating (Alpha)                  84853 non-null object\n",
      "ProsperScore                           84853 non-null float64\n",
      "ListingCategory (numeric)              113937 non-null int64\n",
      "BorrowerState                          108422 non-null object\n",
      "Occupation                             110349 non-null object\n",
      "EmploymentStatus                       111682 non-null object\n",
      "EmploymentStatusDuration               106312 non-null float64\n",
      "IsBorrowerHomeowner                    113937 non-null bool\n",
      "CurrentlyInGroup                       113937 non-null bool\n",
      "GroupKey                               13341 non-null object\n",
      "DateCreditPulled                       113937 non-null object\n",
      "CreditScoreRangeLower                  113346 non-null float64\n",
      "CreditScoreRangeUpper                  113346 non-null float64\n",
      "FirstRecordedCreditLine                113240 non-null object\n",
      "CurrentCreditLines                     106333 non-null float64\n",
      "OpenCreditLines                        106333 non-null float64\n",
      "TotalCreditLinespast7years             113240 non-null float64\n",
      "OpenRevolvingAccounts                  113937 non-null int64\n",
      "OpenRevolvingMonthlyPayment            113937 non-null float64\n",
      "InquiriesLast6Months                   113240 non-null float64\n",
      "TotalInquiries                         112778 non-null float64\n",
      "CurrentDelinquencies                   113240 non-null float64\n",
      "AmountDelinquent                       106315 non-null float64\n",
      "DelinquenciesLast7Years                112947 non-null float64\n",
      "PublicRecordsLast10Years               113240 non-null float64\n",
      "PublicRecordsLast12Months              106333 non-null float64\n",
      "RevolvingCreditBalance                 106333 non-null float64\n",
      "BankcardUtilization                    106333 non-null float64\n",
      "AvailableBankcardCredit                106393 non-null float64\n",
      "TotalTrades                            106393 non-null float64\n",
      "TradesNeverDelinquent (percentage)     106393 non-null float64\n",
      "TradesOpenedLast6Months                106393 non-null float64\n",
      "DebtToIncomeRatio                      105383 non-null float64\n",
      "IncomeRange                            113937 non-null object\n",
      "IncomeVerifiable                       113937 non-null bool\n",
      "StatedMonthlyIncome                    113937 non-null float64\n",
      "LoanKey                                113937 non-null object\n",
      "TotalProsperLoans                      22085 non-null float64\n",
      "TotalProsperPaymentsBilled             22085 non-null float64\n",
      "OnTimeProsperPayments                  22085 non-null float64\n",
      "ProsperPaymentsLessThanOneMonthLate    22085 non-null float64\n",
      "ProsperPaymentsOneMonthPlusLate        22085 non-null float64\n",
      "ProsperPrincipalBorrowed               22085 non-null float64\n",
      "ProsperPrincipalOutstanding            22085 non-null float64\n",
      "ScorexChangeAtTimeOfListing            18928 non-null float64\n",
      "LoanCurrentDaysDelinquent              113937 non-null int64\n",
      "LoanFirstDefaultedCycleNumber          16952 non-null float64\n",
      "LoanMonthsSinceOrigination             113937 non-null int64\n",
      "LoanNumber                             113937 non-null int64\n",
      "LoanOriginalAmount                     113937 non-null int64\n",
      "LoanOriginationDate                    113937 non-null object\n",
      "LoanOriginationQuarter                 113937 non-null object\n",
      "MemberKey                              113937 non-null object\n",
      "MonthlyLoanPayment                     113937 non-null float64\n",
      "LP_CustomerPayments                    113937 non-null float64\n",
      "LP_CustomerPrincipalPayments           113937 non-null float64\n",
      "LP_InterestandFees                     113937 non-null float64\n",
      "LP_ServiceFees                         113937 non-null float64\n",
      "LP_CollectionFees                      113937 non-null float64\n",
      "LP_GrossPrincipalLoss                  113937 non-null float64\n",
      "LP_NetPrincipalLoss                    113937 non-null float64\n",
      "LP_NonPrincipalRecoverypayments        113937 non-null float64\n",
      "PercentFunded                          113937 non-null float64\n",
      "Recommendations                        113937 non-null int64\n",
      "InvestmentFromFriendsCount             113937 non-null int64\n",
      "InvestmentFromFriendsAmount            113937 non-null float64\n",
      "Investors                              113937 non-null int64\n",
      "dtypes: bool(3), float64(50), int64(11), object(17)\n",
      "memory usage: 68.1+ MB\n"
     ]
    }
   ],
   "source": [
    "df.info()"
   ]
  },
  {
   "cell_type": "code",
   "execution_count": 128,
   "metadata": {
    "collapsed": false
   },
   "outputs": [
    {
     "data": {
      "text/plain": [
       "<matplotlib.axes._subplots.AxesSubplot at 0x3e568080>"
      ]
     },
     "execution_count": 128,
     "metadata": {},
     "output_type": "execute_result"
    },
    {
     "data": {
      "image/png": "[encoded data removed]",
      "text/plain": [
       "<matplotlib.figure.Figure at 0x1d0db358>"
      ]
     },
     "metadata": {},
     "output_type": "display_data"
    }
   ],
   "source": [
    "#df['LenderYield'].value_counts()\n",
    "#df.LenderYield.hist(bins=50)\n",
    "df['LenderYield'].hist(bins=50)"
   ]
  },
  {
   "cell_type": "code",
   "execution_count": 129,
   "metadata": {
    "collapsed": false
   },
   "outputs": [
    {
     "data": {
      "text/plain": [
       "<matplotlib.axes._subplots.AxesSubplot at 0x41c9cb38>"
      ]
     },
     "execution_count": 129,
     "metadata": {},
     "output_type": "execute_result"
    },
    {
     "data": {
      "image/png": "[encoded data removed]",
      "text/plain": [
       "<matplotlib.figure.Figure at 0x2df55358>"
      ]
     },
     "metadata": {},
     "output_type": "display_data"
    }
   ],
   "source": [
    "defaulted = df[df['LoanStatus']=='Defaulted']\n",
    "#defaulted['LenderYield'].hist(bins=50)\n",
    "defaulted['LP_GrossPrincipalLoss'].hist(bins=50)"
   ]
  },
  {
   "cell_type": "code",
   "execution_count": 130,
   "metadata": {
    "collapsed": false
   },
   "outputs": [
    {
     "data": {
      "text/plain": [
       "count    113937.000000\n",
       "mean       1077.542901\n",
       "std        1183.414168\n",
       "min          -2.349900\n",
       "25%         274.870000\n",
       "50%         700.840100\n",
       "75%        1458.540000\n",
       "max       15617.030000\n",
       "Name: LP_InterestandFees, dtype: float64"
      ]
     },
     "execution_count": 130,
     "metadata": {},
     "output_type": "execute_result"
    }
   ],
   "source": [
    "df['LP_InterestandFees'].describe() #looks like there are negative fees"
   ]
  },
  {
   "cell_type": "code",
   "execution_count": 131,
   "metadata": {
    "collapsed": false
   },
   "outputs": [
    {
     "data": {
      "text/html": [
       "<div>\n",
       "<table border=\"1\" class=\"dataframe\">\n",
       "  <thead>\n",
       "    <tr style=\"text-align: right;\">\n",
       "      <th></th>\n",
       "      <th>28384</th>\n",
       "      <th>91184</th>\n",
       "    </tr>\n",
       "  </thead>\n",
       "  <tbody>\n",
       "    <tr>\n",
       "      <th>ListingKey</th>\n",
       "      <td>34CD3587284005601C13ED3</td>\n",
       "      <td>5FB33596391582382D26742</td>\n",
       "    </tr>\n",
       "    <tr>\n",
       "      <th>ListingNumber</th>\n",
       "      <td>880346</td>\n",
       "      <td>1049521</td>\n",
       "    </tr>\n",
       "    <tr>\n",
       "      <th>ListingCreationDate</th>\n",
       "      <td>2013-08-26 13:29:03.487000000</td>\n",
       "      <td>2013-12-11 18:13:10.023000000</td>\n",
       "    </tr>\n",
       "    <tr>\n",
       "      <th>CreditGrade</th>\n",
       "      <td>NaN</td>\n",
       "      <td>NaN</td>\n",
       "    </tr>\n",
       "    <tr>\n",
       "      <th>Term</th>\n",
       "      <td>36</td>\n",
       "      <td>36</td>\n",
       "    </tr>\n",
       "    <tr>\n",
       "      <th>LoanStatus</th>\n",
       "      <td>Chargedoff</td>\n",
       "      <td>Completed</td>\n",
       "    </tr>\n",
       "    <tr>\n",
       "      <th>ClosedDate</th>\n",
       "      <td>2014-01-28 00:00:00</td>\n",
       "      <td>2013-12-18 00:00:00</td>\n",
       "    </tr>\n",
       "    <tr>\n",
       "      <th>BorrowerAPR</th>\n",
       "      <td>0.32538</td>\n",
       "      <td>0.19859</td>\n",
       "    </tr>\n",
       "    <tr>\n",
       "      <th>BorrowerRate</th>\n",
       "      <td>0.2859</td>\n",
       "      <td>0.162</td>\n",
       "    </tr>\n",
       "    <tr>\n",
       "      <th>LenderYield</th>\n",
       "      <td>0.2759</td>\n",
       "      <td>0.152</td>\n",
       "    </tr>\n",
       "    <tr>\n",
       "      <th>EstimatedEffectiveYield</th>\n",
       "      <td>0.2512</td>\n",
       "      <td>0.14256</td>\n",
       "    </tr>\n",
       "    <tr>\n",
       "      <th>EstimatedLoss</th>\n",
       "      <td>0.1375</td>\n",
       "      <td>0.0649</td>\n",
       "    </tr>\n",
       "    <tr>\n",
       "      <th>EstimatedReturn</th>\n",
       "      <td>0.1137</td>\n",
       "      <td>0.07766</td>\n",
       "    </tr>\n",
       "    <tr>\n",
       "      <th>ProsperRating (numeric)</th>\n",
       "      <td>2</td>\n",
       "      <td>4</td>\n",
       "    </tr>\n",
       "    <tr>\n",
       "      <th>ProsperRating (Alpha)</th>\n",
       "      <td>E</td>\n",
       "      <td>C</td>\n",
       "    </tr>\n",
       "    <tr>\n",
       "      <th>ProsperScore</th>\n",
       "      <td>3</td>\n",
       "      <td>3</td>\n",
       "    </tr>\n",
       "    <tr>\n",
       "      <th>ListingCategory (numeric)</th>\n",
       "      <td>1</td>\n",
       "      <td>1</td>\n",
       "    </tr>\n",
       "    <tr>\n",
       "      <th>BorrowerState</th>\n",
       "      <td>PA</td>\n",
       "      <td>MD</td>\n",
       "    </tr>\n",
       "    <tr>\n",
       "      <th>Occupation</th>\n",
       "      <td>Truck Driver</td>\n",
       "      <td>Computer Programmer</td>\n",
       "    </tr>\n",
       "    <tr>\n",
       "      <th>EmploymentStatus</th>\n",
       "      <td>Employed</td>\n",
       "      <td>Employed</td>\n",
       "    </tr>\n",
       "    <tr>\n",
       "      <th>EmploymentStatusDuration</th>\n",
       "      <td>2</td>\n",
       "      <td>29</td>\n",
       "    </tr>\n",
       "    <tr>\n",
       "      <th>IsBorrowerHomeowner</th>\n",
       "      <td>True</td>\n",
       "      <td>False</td>\n",
       "    </tr>\n",
       "    <tr>\n",
       "      <th>CurrentlyInGroup</th>\n",
       "      <td>False</td>\n",
       "      <td>False</td>\n",
       "    </tr>\n",
       "    <tr>\n",
       "      <th>GroupKey</th>\n",
       "      <td>NaN</td>\n",
       "      <td>NaN</td>\n",
       "    </tr>\n",
       "    <tr>\n",
       "      <th>DateCreditPulled</th>\n",
       "      <td>2013-08-26 12:45:00</td>\n",
       "      <td>2013-12-11 18:13:12</td>\n",
       "    </tr>\n",
       "    <tr>\n",
       "      <th>CreditScoreRangeLower</th>\n",
       "      <td>660</td>\n",
       "      <td>700</td>\n",
       "    </tr>\n",
       "    <tr>\n",
       "      <th>CreditScoreRangeUpper</th>\n",
       "      <td>679</td>\n",
       "      <td>719</td>\n",
       "    </tr>\n",
       "    <tr>\n",
       "      <th>FirstRecordedCreditLine</th>\n",
       "      <td>2005-02-10 00:00:00</td>\n",
       "      <td>1990-05-01 00:00:00</td>\n",
       "    </tr>\n",
       "    <tr>\n",
       "      <th>CurrentCreditLines</th>\n",
       "      <td>6</td>\n",
       "      <td>14</td>\n",
       "    </tr>\n",
       "    <tr>\n",
       "      <th>OpenCreditLines</th>\n",
       "      <td>6</td>\n",
       "      <td>13</td>\n",
       "    </tr>\n",
       "    <tr>\n",
       "      <th>...</th>\n",
       "      <td>...</td>\n",
       "      <td>...</td>\n",
       "    </tr>\n",
       "    <tr>\n",
       "      <th>TotalProsperLoans</th>\n",
       "      <td>NaN</td>\n",
       "      <td>NaN</td>\n",
       "    </tr>\n",
       "    <tr>\n",
       "      <th>TotalProsperPaymentsBilled</th>\n",
       "      <td>NaN</td>\n",
       "      <td>NaN</td>\n",
       "    </tr>\n",
       "    <tr>\n",
       "      <th>OnTimeProsperPayments</th>\n",
       "      <td>NaN</td>\n",
       "      <td>NaN</td>\n",
       "    </tr>\n",
       "    <tr>\n",
       "      <th>ProsperPaymentsLessThanOneMonthLate</th>\n",
       "      <td>NaN</td>\n",
       "      <td>NaN</td>\n",
       "    </tr>\n",
       "    <tr>\n",
       "      <th>ProsperPaymentsOneMonthPlusLate</th>\n",
       "      <td>NaN</td>\n",
       "      <td>NaN</td>\n",
       "    </tr>\n",
       "    <tr>\n",
       "      <th>ProsperPrincipalBorrowed</th>\n",
       "      <td>NaN</td>\n",
       "      <td>NaN</td>\n",
       "    </tr>\n",
       "    <tr>\n",
       "      <th>ProsperPrincipalOutstanding</th>\n",
       "      <td>NaN</td>\n",
       "      <td>NaN</td>\n",
       "    </tr>\n",
       "    <tr>\n",
       "      <th>ScorexChangeAtTimeOfListing</th>\n",
       "      <td>NaN</td>\n",
       "      <td>NaN</td>\n",
       "    </tr>\n",
       "    <tr>\n",
       "      <th>LoanCurrentDaysDelinquent</th>\n",
       "      <td>163</td>\n",
       "      <td>0</td>\n",
       "    </tr>\n",
       "    <tr>\n",
       "      <th>LoanFirstDefaultedCycleNumber</th>\n",
       "      <td>5</td>\n",
       "      <td>NaN</td>\n",
       "    </tr>\n",
       "    <tr>\n",
       "      <th>LoanMonthsSinceOrigination</th>\n",
       "      <td>7</td>\n",
       "      <td>3</td>\n",
       "    </tr>\n",
       "    <tr>\n",
       "      <th>LoanNumber</th>\n",
       "      <td>100414</td>\n",
       "      <td>121527</td>\n",
       "    </tr>\n",
       "    <tr>\n",
       "      <th>LoanOriginalAmount</th>\n",
       "      <td>3000</td>\n",
       "      <td>3500</td>\n",
       "    </tr>\n",
       "    <tr>\n",
       "      <th>LoanOriginationDate</th>\n",
       "      <td>2013-08-28 00:00:00</td>\n",
       "      <td>2013-12-18 00:00:00</td>\n",
       "    </tr>\n",
       "    <tr>\n",
       "      <th>LoanOriginationQuarter</th>\n",
       "      <td>Q3 2013</td>\n",
       "      <td>Q4 2013</td>\n",
       "    </tr>\n",
       "    <tr>\n",
       "      <th>MemberKey</th>\n",
       "      <td>0CE43587499687303B53D9D</td>\n",
       "      <td>35B73699937253647D6BF22</td>\n",
       "    </tr>\n",
       "    <tr>\n",
       "      <th>MonthlyLoanPayment</th>\n",
       "      <td>125.05</td>\n",
       "      <td>123.4</td>\n",
       "    </tr>\n",
       "    <tr>\n",
       "      <th>LP_CustomerPayments</th>\n",
       "      <td>-2.3499</td>\n",
       "      <td>3500</td>\n",
       "    </tr>\n",
       "    <tr>\n",
       "      <th>LP_CustomerPrincipalPayments</th>\n",
       "      <td>0</td>\n",
       "      <td>3500</td>\n",
       "    </tr>\n",
       "    <tr>\n",
       "      <th>LP_InterestandFees</th>\n",
       "      <td>-2.3499</td>\n",
       "      <td>-0.0034</td>\n",
       "    </tr>\n",
       "    <tr>\n",
       "      <th>LP_ServiceFees</th>\n",
       "      <td>0</td>\n",
       "      <td>0</td>\n",
       "    </tr>\n",
       "    <tr>\n",
       "      <th>LP_CollectionFees</th>\n",
       "      <td>-0.4</td>\n",
       "      <td>0</td>\n",
       "    </tr>\n",
       "    <tr>\n",
       "      <th>LP_GrossPrincipalLoss</th>\n",
       "      <td>3000</td>\n",
       "      <td>0</td>\n",
       "    </tr>\n",
       "    <tr>\n",
       "      <th>LP_NetPrincipalLoss</th>\n",
       "      <td>3000</td>\n",
       "      <td>0</td>\n",
       "    </tr>\n",
       "    <tr>\n",
       "      <th>LP_NonPrincipalRecoverypayments</th>\n",
       "      <td>0</td>\n",
       "      <td>0</td>\n",
       "    </tr>\n",
       "    <tr>\n",
       "      <th>PercentFunded</th>\n",
       "      <td>1</td>\n",
       "      <td>1</td>\n",
       "    </tr>\n",
       "    <tr>\n",
       "      <th>Recommendations</th>\n",
       "      <td>0</td>\n",
       "      <td>0</td>\n",
       "    </tr>\n",
       "    <tr>\n",
       "      <th>InvestmentFromFriendsCount</th>\n",
       "      <td>0</td>\n",
       "      <td>0</td>\n",
       "    </tr>\n",
       "    <tr>\n",
       "      <th>InvestmentFromFriendsAmount</th>\n",
       "      <td>0</td>\n",
       "      <td>0</td>\n",
       "    </tr>\n",
       "    <tr>\n",
       "      <th>Investors</th>\n",
       "      <td>1</td>\n",
       "      <td>1</td>\n",
       "    </tr>\n",
       "  </tbody>\n",
       "</table>\n",
       "<p>81 rows × 2 columns</p>\n",
       "</div>"
      ],
      "text/plain": [
       "                                                             28384  \\\n",
       "ListingKey                                 34CD3587284005601C13ED3   \n",
       "ListingNumber                                               880346   \n",
       "ListingCreationDate                  2013-08-26 13:29:03.487000000   \n",
       "CreditGrade                                                    NaN   \n",
       "Term                                                            36   \n",
       "LoanStatus                                              Chargedoff   \n",
       "ClosedDate                                     2014-01-28 00:00:00   \n",
       "BorrowerAPR                                                0.32538   \n",
       "BorrowerRate                                                0.2859   \n",
       "LenderYield                                                 0.2759   \n",
       "EstimatedEffectiveYield                                     0.2512   \n",
       "EstimatedLoss                                               0.1375   \n",
       "EstimatedReturn                                             0.1137   \n",
       "ProsperRating (numeric)                                          2   \n",
       "ProsperRating (Alpha)                                            E   \n",
       "ProsperScore                                                     3   \n",
       "ListingCategory (numeric)                                        1   \n",
       "BorrowerState                                                   PA   \n",
       "Occupation                                            Truck Driver   \n",
       "EmploymentStatus                                          Employed   \n",
       "EmploymentStatusDuration                                         2   \n",
       "IsBorrowerHomeowner                                           True   \n",
       "CurrentlyInGroup                                             False   \n",
       "GroupKey                                                       NaN   \n",
       "DateCreditPulled                               2013-08-26 12:45:00   \n",
       "CreditScoreRangeLower                                          660   \n",
       "CreditScoreRangeUpper                                          679   \n",
       "FirstRecordedCreditLine                        2005-02-10 00:00:00   \n",
       "CurrentCreditLines                                               6   \n",
       "OpenCreditLines                                                  6   \n",
       "...                                                            ...   \n",
       "TotalProsperLoans                                              NaN   \n",
       "TotalProsperPaymentsBilled                                     NaN   \n",
       "OnTimeProsperPayments                                          NaN   \n",
       "ProsperPaymentsLessThanOneMonthLate                            NaN   \n",
       "ProsperPaymentsOneMonthPlusLate                                NaN   \n",
       "ProsperPrincipalBorrowed                                       NaN   \n",
       "ProsperPrincipalOutstanding                                    NaN   \n",
       "ScorexChangeAtTimeOfListing                                    NaN   \n",
       "LoanCurrentDaysDelinquent                                      163   \n",
       "LoanFirstDefaultedCycleNumber                                    5   \n",
       "LoanMonthsSinceOrigination                                       7   \n",
       "LoanNumber                                                  100414   \n",
       "LoanOriginalAmount                                            3000   \n",
       "LoanOriginationDate                            2013-08-28 00:00:00   \n",
       "LoanOriginationQuarter                                     Q3 2013   \n",
       "MemberKey                                  0CE43587499687303B53D9D   \n",
       "MonthlyLoanPayment                                          125.05   \n",
       "LP_CustomerPayments                                        -2.3499   \n",
       "LP_CustomerPrincipalPayments                                     0   \n",
       "LP_InterestandFees                                         -2.3499   \n",
       "LP_ServiceFees                                                   0   \n",
       "LP_CollectionFees                                             -0.4   \n",
       "LP_GrossPrincipalLoss                                         3000   \n",
       "LP_NetPrincipalLoss                                           3000   \n",
       "LP_NonPrincipalRecoverypayments                                  0   \n",
       "PercentFunded                                                    1   \n",
       "Recommendations                                                  0   \n",
       "InvestmentFromFriendsCount                                       0   \n",
       "InvestmentFromFriendsAmount                                      0   \n",
       "Investors                                                        1   \n",
       "\n",
       "                                                             91184  \n",
       "ListingKey                                 5FB33596391582382D26742  \n",
       "ListingNumber                                              1049521  \n",
       "ListingCreationDate                  2013-12-11 18:13:10.023000000  \n",
       "CreditGrade                                                    NaN  \n",
       "Term                                                            36  \n",
       "LoanStatus                                               Completed  \n",
       "ClosedDate                                     2013-12-18 00:00:00  \n",
       "BorrowerAPR                                                0.19859  \n",
       "BorrowerRate                                                 0.162  \n",
       "LenderYield                                                  0.152  \n",
       "EstimatedEffectiveYield                                    0.14256  \n",
       "EstimatedLoss                                               0.0649  \n",
       "EstimatedReturn                                            0.07766  \n",
       "ProsperRating (numeric)                                          4  \n",
       "ProsperRating (Alpha)                                            C  \n",
       "ProsperScore                                                     3  \n",
       "ListingCategory (numeric)                                        1  \n",
       "BorrowerState                                                   MD  \n",
       "Occupation                                     Computer Programmer  \n",
       "EmploymentStatus                                          Employed  \n",
       "EmploymentStatusDuration                                        29  \n",
       "IsBorrowerHomeowner                                          False  \n",
       "CurrentlyInGroup                                             False  \n",
       "GroupKey                                                       NaN  \n",
       "DateCreditPulled                               2013-12-11 18:13:12  \n",
       "CreditScoreRangeLower                                          700  \n",
       "CreditScoreRangeUpper                                          719  \n",
       "FirstRecordedCreditLine                        1990-05-01 00:00:00  \n",
       "CurrentCreditLines                                              14  \n",
       "OpenCreditLines                                                 13  \n",
       "...                                                            ...  \n",
       "TotalProsperLoans                                              NaN  \n",
       "TotalProsperPaymentsBilled                                     NaN  \n",
       "OnTimeProsperPayments                                          NaN  \n",
       "ProsperPaymentsLessThanOneMonthLate                            NaN  \n",
       "ProsperPaymentsOneMonthPlusLate                                NaN  \n",
       "ProsperPrincipalBorrowed                                       NaN  \n",
       "ProsperPrincipalOutstanding                                    NaN  \n",
       "ScorexChangeAtTimeOfListing                                    NaN  \n",
       "LoanCurrentDaysDelinquent                                        0  \n",
       "LoanFirstDefaultedCycleNumber                                  NaN  \n",
       "LoanMonthsSinceOrigination                                       3  \n",
       "LoanNumber                                                  121527  \n",
       "LoanOriginalAmount                                            3500  \n",
       "LoanOriginationDate                            2013-12-18 00:00:00  \n",
       "LoanOriginationQuarter                                     Q4 2013  \n",
       "MemberKey                                  35B73699937253647D6BF22  \n",
       "MonthlyLoanPayment                                           123.4  \n",
       "LP_CustomerPayments                                           3500  \n",
       "LP_CustomerPrincipalPayments                                  3500  \n",
       "LP_InterestandFees                                         -0.0034  \n",
       "LP_ServiceFees                                                   0  \n",
       "LP_CollectionFees                                                0  \n",
       "LP_GrossPrincipalLoss                                            0  \n",
       "LP_NetPrincipalLoss                                              0  \n",
       "LP_NonPrincipalRecoverypayments                                  0  \n",
       "PercentFunded                                                    1  \n",
       "Recommendations                                                  0  \n",
       "InvestmentFromFriendsCount                                       0  \n",
       "InvestmentFromFriendsAmount                                      0  \n",
       "Investors                                                        1  \n",
       "\n",
       "[81 rows x 2 columns]"
      ]
     },
     "execution_count": 131,
     "metadata": {},
     "output_type": "execute_result"
    }
   ],
   "source": [
    "df[df['LP_InterestandFees'] < 0].transpose() # examine negative fee loans"
   ]
  },
  {
   "cell_type": "code",
   "execution_count": 132,
   "metadata": {
    "collapsed": false
   },
   "outputs": [],
   "source": [
    "df.loc[df['LP_InterestandFees'] <0, ['LP_InterestandFees']] = 0  #set 2 loans with negative fees to 0"
   ]
  },
  {
   "cell_type": "code",
   "execution_count": 133,
   "metadata": {
    "collapsed": false
   },
   "outputs": [
    {
     "data": {
      "text/plain": [
       "6225"
      ]
     },
     "execution_count": 133,
     "metadata": {},
     "output_type": "execute_result"
    }
   ],
   "source": [
    "df[df['LP_InterestandFees']==0]['LP_InterestandFees'].count() #6223 loans made zero fees + 2 we adjusted"
   ]
  },
  {
   "cell_type": "code",
   "execution_count": 134,
   "metadata": {
    "collapsed": false
   },
   "outputs": [
    {
     "data": {
      "text/plain": [
       "<matplotlib.axes._subplots.AxesSubplot at 0x448acda0>"
      ]
     },
     "execution_count": 134,
     "metadata": {},
     "output_type": "execute_result"
    },
    {
     "data": {
      "image/png": "[encoded data removed]",
      "text/plain": [
       "<matplotlib.figure.Figure at 0x34173e48>"
      ]
     },
     "metadata": {},
     "output_type": "display_data"
    }
   ],
   "source": [
    "df['LP_InterestandFees'].hist(bins=50)  # heavy positive skew "
   ]
  },
  {
   "cell_type": "code",
   "execution_count": 135,
   "metadata": {
    "collapsed": false
   },
   "outputs": [
    {
     "data": {
      "image/png": "[encoded data removed]",
      "text/plain": [
       "<matplotlib.figure.Figure at 0x33b4ce10>"
      ]
     },
     "metadata": {},
     "output_type": "display_data"
    }
   ],
   "source": [
    "#calculate the skewness\n",
    "Fees = preprocessing.scale(df['LP_InterestandFees'])\n",
    "FeesScaled = preprocessing.scale(np.sqrt(df['LP_InterestandFees']))\n",
    "skew1 = skew(Fees)\n",
    "skew2 = skew(FeesScaled)\n",
    "\n",
    "#draw it\n",
    "figure = plt.figure()\n",
    "figure.add_subplot(121)\n",
    "plt.hist(Fees, facecolor='green', alpha = .5, bins=50)\n",
    "plt.xlabel(\"Interest & Fees\") \n",
    "plt.title(\"Interest & Fees Histogram\") \n",
    "plt.text(1,5000,\"Skewness: {0:.2f}\".format(skew1)) \n",
    "\n",
    "figure.add_subplot(122)\n",
    "plt.hist(FeesScaled, facecolor='orange', alpha =.5, bins=50)\n",
    "plt.xlabel(\"Interest & Fees Square Root Transformed\") \n",
    "plt.title(\"Transformed Interest & Fees Histogram\") \n",
    "plt.text(1,5000,\"Skewness: {0:.2f}\".format(skew2))\n",
    "plt.show()"
   ]
  },
  {
   "cell_type": "code",
   "execution_count": 136,
   "metadata": {
    "collapsed": false
   },
   "outputs": [
    {
     "data": {
      "image/png": "[encoded data removed]",
      "text/plain": [
       "<matplotlib.figure.Figure at 0x448accc0>"
      ]
     },
     "metadata": {},
     "output_type": "display_data"
    }
   ],
   "source": [
    "#tried boxcox transformation and received the best results. skewness of -0.07\n",
    "#https://scipy.github.io/devdocs/generated/scipy.stats.boxcox.html\n",
    "\n",
    "FeesBoxCox= preprocessing.scale(boxcox(df['LP_InterestandFees']+1)[0])\n",
    "skew3 = skew(FeesBoxCox)\n",
    "   \n",
    "plt.hist(FeesBoxCox,facecolor='blue',  alpha = .5, bins=50) \n",
    "plt.xlabel(\"Fees - BoxCox Transformed\") \n",
    "plt.title(\"Transformed Fees Histogram\") \n",
    "plt.text(1,5000,\"Skewness: {0:.2f}\".format(skew3)) \n",
    "plt.show()\n",
    "\n",
    "# good thing random forests do not require normality"
   ]
  },
  {
   "cell_type": "code",
   "execution_count": 137,
   "metadata": {
    "collapsed": false
   },
   "outputs": [
    {
     "data": {
      "text/plain": [
       "<matplotlib.axes._subplots.AxesSubplot at 0x1c3275f8>"
      ]
     },
     "execution_count": 137,
     "metadata": {},
     "output_type": "execute_result"
    },
    {
     "data": {
      "image/png": "[encoded data removed]",
      "text/plain": [
       "<matplotlib.figure.Figure at 0x33b5d630>"
      ]
     },
     "metadata": {},
     "output_type": "display_data"
    }
   ],
   "source": [
    "#credit grade available until July 2009. not all values are filled in \n",
    "df.boxplot(column='LP_InterestandFees', by ='CreditGrade')"
   ]
  },
  {
   "cell_type": "code",
   "execution_count": 138,
   "metadata": {
    "collapsed": false,
    "scrolled": true
   },
   "outputs": [
    {
     "data": {
      "text/plain": [
       "<matplotlib.axes._subplots.AxesSubplot at 0x33b5d8d0>"
      ]
     },
     "execution_count": 138,
     "metadata": {},
     "output_type": "execute_result"
    },
    {
     "data": {
      "image/png": "[encoded data removed]",
      "text/plain": [
       "<matplotlib.figure.Figure at 0xdba3630>"
      ]
     },
     "metadata": {},
     "output_type": "display_data"
    }
   ],
   "source": [
    "#prosper score only available from July 2009 onward. all values are filled\n",
    "df.boxplot(column='LP_InterestandFees', by ='ProsperScore')"
   ]
  },
  {
   "cell_type": "code",
   "execution_count": 139,
   "metadata": {
    "collapsed": false
   },
   "outputs": [
    {
     "data": {
      "text/plain": [
       "<matplotlib.axes._subplots.AxesSubplot at 0x42d754a8>"
      ]
     },
     "execution_count": 139,
     "metadata": {},
     "output_type": "execute_result"
    },
    {
     "data": {
      "image/png": "[encoded data removed]",
      "text/plain": [
       "<matplotlib.figure.Figure at 0x1103cf98>"
      ]
     },
     "metadata": {},
     "output_type": "display_data"
    }
   ],
   "source": [
    "df['ClosingFeePercent'] = df['BorrowerRate'] - df['LenderYield']\n",
    "df['ClosingFeePercent'].hist(bins=20)"
   ]
  },
  {
   "cell_type": "code",
   "execution_count": 140,
   "metadata": {
    "collapsed": false
   },
   "outputs": [
    {
     "data": {
      "text/plain": [
       "<matplotlib.axes._subplots.AxesSubplot at 0x1da39a58>"
      ]
     },
     "execution_count": 140,
     "metadata": {},
     "output_type": "execute_result"
    },
    {
     "data": {
      "image/png": "[encoded data removed]",
      "text/plain": [
       "<matplotlib.figure.Figure at 0x25f483c8>"
      ]
     },
     "metadata": {},
     "output_type": "display_data"
    }
   ],
   "source": [
    "df['ClosingFeeDollar'] = df['ClosingFeePercent'] * df['LoanOriginalAmount']\n",
    "df.boxplot(column='ClosingFeePercent', by ='CreditGrade')"
   ]
  },
  {
   "cell_type": "code",
   "execution_count": 141,
   "metadata": {
    "collapsed": false
   },
   "outputs": [],
   "source": [
    "df['LoanOriginationDate'] =  pd.to_datetime(df['LoanOriginationDate'], format='%Y-%m-%d %H:%M:%S')"
   ]
  },
  {
   "cell_type": "code",
   "execution_count": 142,
   "metadata": {
    "collapsed": false,
    "scrolled": true
   },
   "outputs": [],
   "source": [
    "df['Year'] = pd.DatetimeIndex(df['LoanOriginationDate']).year"
   ]
  },
  {
   "cell_type": "code",
   "execution_count": 143,
   "metadata": {
    "collapsed": false
   },
   "outputs": [],
   "source": [
    "df['TotalFeeDollar'] = df['ClosingFeeDollar'] - df['LP_ServiceFees']\n",
    "#revenue = df[['TotalFeeDollar']]\n",
    "keep = ['TotalFeeDollar', 'LoanOriginationDate', 'Year', 'CreditGrade', 'ProsperScore',\\\n",
    "        'ListingCategory (numeric)','BorrowerState','LoanStatus']\n",
    "revenue = df[keep]"
   ]
  },
  {
   "cell_type": "code",
   "execution_count": 144,
   "metadata": {
    "collapsed": false,
    "scrolled": true
   },
   "outputs": [
    {
     "data": {
      "text/html": [
       "<div>\n",
       "<table border=\"1\" class=\"dataframe\">\n",
       "  <thead>\n",
       "    <tr style=\"text-align: right;\">\n",
       "      <th></th>\n",
       "      <th>TotalFeeDollar</th>\n",
       "      <th>LoanOriginationDate</th>\n",
       "      <th>Year</th>\n",
       "      <th>CreditGrade</th>\n",
       "      <th>ProsperScore</th>\n",
       "      <th>ListingCategory (numeric)</th>\n",
       "      <th>BorrowerState</th>\n",
       "      <th>LoanStatus</th>\n",
       "    </tr>\n",
       "  </thead>\n",
       "  <tbody>\n",
       "    <tr>\n",
       "      <th>0</th>\n",
       "      <td>321.680</td>\n",
       "      <td>2007-09-12</td>\n",
       "      <td>2007</td>\n",
       "      <td>C</td>\n",
       "      <td>NaN</td>\n",
       "      <td>0</td>\n",
       "      <td>CO</td>\n",
       "      <td>Completed</td>\n",
       "    </tr>\n",
       "    <tr>\n",
       "      <th>1</th>\n",
       "      <td>100.000</td>\n",
       "      <td>2014-03-03</td>\n",
       "      <td>2014</td>\n",
       "      <td>NaN</td>\n",
       "      <td>7.0</td>\n",
       "      <td>2</td>\n",
       "      <td>CO</td>\n",
       "      <td>Current</td>\n",
       "    </tr>\n",
       "    <tr>\n",
       "      <th>2</th>\n",
       "      <td>129.235</td>\n",
       "      <td>2007-01-17</td>\n",
       "      <td>2007</td>\n",
       "      <td>HR</td>\n",
       "      <td>NaN</td>\n",
       "      <td>0</td>\n",
       "      <td>GA</td>\n",
       "      <td>Completed</td>\n",
       "    </tr>\n",
       "    <tr>\n",
       "      <th>3</th>\n",
       "      <td>208.010</td>\n",
       "      <td>2012-11-01</td>\n",
       "      <td>2012</td>\n",
       "      <td>NaN</td>\n",
       "      <td>9.0</td>\n",
       "      <td>16</td>\n",
       "      <td>GA</td>\n",
       "      <td>Current</td>\n",
       "    </tr>\n",
       "    <tr>\n",
       "      <th>4</th>\n",
       "      <td>210.270</td>\n",
       "      <td>2013-09-20</td>\n",
       "      <td>2013</td>\n",
       "      <td>NaN</td>\n",
       "      <td>4.0</td>\n",
       "      <td>2</td>\n",
       "      <td>MN</td>\n",
       "      <td>Current</td>\n",
       "    </tr>\n",
       "  </tbody>\n",
       "</table>\n",
       "</div>"
      ],
      "text/plain": [
       "   TotalFeeDollar LoanOriginationDate  Year CreditGrade  ProsperScore  \\\n",
       "0         321.680          2007-09-12  2007           C           NaN   \n",
       "1         100.000          2014-03-03  2014         NaN           7.0   \n",
       "2         129.235          2007-01-17  2007          HR           NaN   \n",
       "3         208.010          2012-11-01  2012         NaN           9.0   \n",
       "4         210.270          2013-09-20  2013         NaN           4.0   \n",
       "\n",
       "   ListingCategory (numeric) BorrowerState LoanStatus  \n",
       "0                          0            CO  Completed  \n",
       "1                          2            CO    Current  \n",
       "2                          0            GA  Completed  \n",
       "3                         16            GA    Current  \n",
       "4                          2            MN    Current  "
      ]
     },
     "execution_count": 144,
     "metadata": {},
     "output_type": "execute_result"
    }
   ],
   "source": [
    "revenue.head()"
   ]
  },
  {
   "cell_type": "code",
   "execution_count": 145,
   "metadata": {
    "collapsed": false,
    "scrolled": true
   },
   "outputs": [
    {
     "data": {
      "text/plain": [
       "<matplotlib.axes._subplots.AxesSubplot at 0xe21a6d8>"
      ]
     },
     "execution_count": 145,
     "metadata": {},
     "output_type": "execute_result"
    },
    {
     "data": {
      "image/png": "[encoded data removed]",
      "text/plain": [
       "<matplotlib.figure.Figure at 0x41c20e80>"
      ]
     },
     "metadata": {},
     "output_type": "display_data"
    }
   ],
   "source": [
    "revenue[['TotalFeeDollar', 'Year']].groupby('Year').sum().plot(kind='bar')"
   ]
  },
  {
   "cell_type": "code",
   "execution_count": 146,
   "metadata": {
    "collapsed": false
   },
   "outputs": [
    {
     "data": {
      "text/plain": [
       "<matplotlib.axes._subplots.AxesSubplot at 0x3ec4dda0>"
      ]
     },
     "execution_count": 146,
     "metadata": {},
     "output_type": "execute_result"
    },
    {
     "data": {
      "image/png": "[encoded data removed]",
      "text/plain": [
       "<matplotlib.figure.Figure at 0x3ec5a1d0>"
      ]
     },
     "metadata": {},
     "output_type": "display_data"
    }
   ],
   "source": [
    "revenue[['TotalFeeDollar', 'CreditGrade']].groupby('CreditGrade').sum().plot(kind='bar')"
   ]
  },
  {
   "cell_type": "code",
   "execution_count": 147,
   "metadata": {
    "collapsed": false
   },
   "outputs": [
    {
     "data": {
      "text/plain": [
       "<matplotlib.axes._subplots.AxesSubplot at 0x433b4828>"
      ]
     },
     "execution_count": 147,
     "metadata": {},
     "output_type": "execute_result"
    },
    {
     "data": {
      "image/png": "[encoded data removed]",
      "text/plain": [
       "<matplotlib.figure.Figure at 0x43f131d0>"
      ]
     },
     "metadata": {},
     "output_type": "display_data"
    }
   ],
   "source": [
    "revenue[['TotalFeeDollar', 'ProsperScore']].groupby('ProsperScore').sum().plot(kind='bar')"
   ]
  },
  {
   "cell_type": "code",
   "execution_count": 148,
   "metadata": {
    "collapsed": false
   },
   "outputs": [
    {
     "data": {
      "text/plain": [
       "<matplotlib.axes._subplots.AxesSubplot at 0x437cb320>"
      ]
     },
     "execution_count": 148,
     "metadata": {},
     "output_type": "execute_result"
    },
    {
     "data": {
      "image/png": "[encoded data removed]",
      "text/plain": [
       "<matplotlib.figure.Figure at 0x43fa27f0>"
      ]
     },
     "metadata": {},
     "output_type": "display_data"
    }
   ],
   "source": [
    "revenue[['TotalFeeDollar', 'ListingCategory (numeric)']].groupby('ListingCategory (numeric)').sum().plot(kind='bar')"
   ]
  },
  {
   "cell_type": "code",
   "execution_count": 149,
   "metadata": {
    "collapsed": false
   },
   "outputs": [
    {
     "data": {
      "text/plain": [
       "<matplotlib.axes._subplots.AxesSubplot at 0x43fa2cf8>"
      ]
     },
     "execution_count": 149,
     "metadata": {},
     "output_type": "execute_result"
    },
    {
     "data": {
      "image/png": "[encoded data removed]",
      "text/plain": [
       "<matplotlib.figure.Figure at 0x24171240>"
      ]
     },
     "metadata": {},
     "output_type": "display_data"
    }
   ],
   "source": [
    "state = revenue[['TotalFeeDollar', 'BorrowerState']].groupby('BorrowerState').sum()\n",
    "state = state.sort_values(by='TotalFeeDollar', ascending=False) #sorted by revenues\n",
    "state.head(10).plot(kind='bar') #plot top 10"
   ]
  },
  {
   "cell_type": "code",
   "execution_count": 150,
   "metadata": {
    "collapsed": false,
    "scrolled": false
   },
   "outputs": [],
   "source": [
    "state2 = revenue.pivot_table(index=['BorrowerState'],values=[\"TotalFeeDollar\"],aggfunc=[np.sum,len], fill_value=0,margins=True)\n",
    "stackedstate = state2.stack(1).sort_values(by='sum',ascending=False)\n",
    "stackedstate['FeePerLoan'] = stackedstate['sum']/stackedstate['len']"
   ]
  },
  {
   "cell_type": "code",
   "execution_count": 151,
   "metadata": {
    "collapsed": false
   },
   "outputs": [
    {
     "data": {
      "text/html": [
       "<div>\n",
       "<table border=\"1\" class=\"dataframe\">\n",
       "  <thead>\n",
       "    <tr style=\"text-align: right;\">\n",
       "      <th></th>\n",
       "      <th></th>\n",
       "      <th>sum</th>\n",
       "      <th>len</th>\n",
       "      <th>FeePerLoan</th>\n",
       "    </tr>\n",
       "    <tr>\n",
       "      <th>BorrowerState</th>\n",
       "      <th></th>\n",
       "      <th></th>\n",
       "      <th></th>\n",
       "      <th></th>\n",
       "    </tr>\n",
       "  </thead>\n",
       "  <tbody>\n",
       "    <tr>\n",
       "      <th>DC</th>\n",
       "      <th>TotalFeeDollar</th>\n",
       "      <td>66773.0700</td>\n",
       "      <td>382.0</td>\n",
       "      <td>174.798613</td>\n",
       "    </tr>\n",
       "    <tr>\n",
       "      <th>MD</th>\n",
       "      <th>TotalFeeDollar</th>\n",
       "      <td>434112.6725</td>\n",
       "      <td>2821.0</td>\n",
       "      <td>153.886094</td>\n",
       "    </tr>\n",
       "    <tr>\n",
       "      <th>NH</th>\n",
       "      <th>TotalFeeDollar</th>\n",
       "      <td>84668.0437</td>\n",
       "      <td>551.0</td>\n",
       "      <td>153.662511</td>\n",
       "    </tr>\n",
       "    <tr>\n",
       "      <th>MA</th>\n",
       "      <th>TotalFeeDollar</th>\n",
       "      <td>344026.9588</td>\n",
       "      <td>2242.0</td>\n",
       "      <td>153.446458</td>\n",
       "    </tr>\n",
       "    <tr>\n",
       "      <th>NJ</th>\n",
       "      <th>TotalFeeDollar</th>\n",
       "      <td>472115.0875</td>\n",
       "      <td>3097.0</td>\n",
       "      <td>152.442715</td>\n",
       "    </tr>\n",
       "  </tbody>\n",
       "</table>\n",
       "</div>"
      ],
      "text/plain": [
       "                                      sum     len  FeePerLoan\n",
       "BorrowerState                                                \n",
       "DC            TotalFeeDollar   66773.0700   382.0  174.798613\n",
       "MD            TotalFeeDollar  434112.6725  2821.0  153.886094\n",
       "NH            TotalFeeDollar   84668.0437   551.0  153.662511\n",
       "MA            TotalFeeDollar  344026.9588  2242.0  153.446458\n",
       "NJ            TotalFeeDollar  472115.0875  3097.0  152.442715"
      ]
     },
     "execution_count": 151,
     "metadata": {},
     "output_type": "execute_result"
    }
   ],
   "source": [
    "stackedstate.sort_values(by='FeePerLoan',ascending=False).head(5)\n",
    "#seems that loans from DC makes the most in fees"
   ]
  },
  {
   "cell_type": "code",
   "execution_count": 152,
   "metadata": {
    "collapsed": false
   },
   "outputs": [
    {
     "data": {
      "text/html": [
       "<div>\n",
       "<table border=\"1\" class=\"dataframe\">\n",
       "  <thead>\n",
       "    <tr style=\"text-align: right;\">\n",
       "      <th></th>\n",
       "      <th>ProsperScore</th>\n",
       "    </tr>\n",
       "    <tr>\n",
       "      <th>BorrowerState</th>\n",
       "      <th></th>\n",
       "    </tr>\n",
       "  </thead>\n",
       "  <tbody>\n",
       "    <tr>\n",
       "      <th>DC</th>\n",
       "      <td>6.786585</td>\n",
       "    </tr>\n",
       "    <tr>\n",
       "      <th>IL</th>\n",
       "      <td>6.236867</td>\n",
       "    </tr>\n",
       "    <tr>\n",
       "      <th>DE</th>\n",
       "      <td>6.205993</td>\n",
       "    </tr>\n",
       "    <tr>\n",
       "      <th>MA</th>\n",
       "      <td>6.180776</td>\n",
       "    </tr>\n",
       "    <tr>\n",
       "      <th>GA</th>\n",
       "      <td>6.126382</td>\n",
       "    </tr>\n",
       "  </tbody>\n",
       "</table>\n",
       "</div>"
      ],
      "text/plain": [
       "               ProsperScore\n",
       "BorrowerState              \n",
       "DC                 6.786585\n",
       "IL                 6.236867\n",
       "DE                 6.205993\n",
       "MA                 6.180776\n",
       "GA                 6.126382"
      ]
     },
     "execution_count": 152,
     "metadata": {},
     "output_type": "execute_result"
    }
   ],
   "source": [
    "report = df.pivot_table(values=['ProsperScore'],index=['BorrowerState'], fill_value=0, aggfunc=np.mean)\n",
    "report.sort_values(by='ProsperScore',ascending=False).head(5) \n",
    "#top average prosper score, hypothesize was right DC loans were most credit worthy"
   ]
  },
  {
   "cell_type": "code",
   "execution_count": 153,
   "metadata": {
    "collapsed": false
   },
   "outputs": [
    {
     "data": {
      "text/html": [
       "<div>\n",
       "<table border=\"1\" class=\"dataframe\">\n",
       "  <thead>\n",
       "    <tr>\n",
       "      <th></th>\n",
       "      <th colspan=\"11\" halign=\"left\">LP_GrossPrincipalLoss</th>\n",
       "    </tr>\n",
       "    <tr>\n",
       "      <th>ProsperScore</th>\n",
       "      <th>1.0</th>\n",
       "      <th>2.0</th>\n",
       "      <th>3.0</th>\n",
       "      <th>4.0</th>\n",
       "      <th>5.0</th>\n",
       "      <th>6.0</th>\n",
       "      <th>7.0</th>\n",
       "      <th>8.0</th>\n",
       "      <th>9.0</th>\n",
       "      <th>10.0</th>\n",
       "      <th>11.0</th>\n",
       "    </tr>\n",
       "    <tr>\n",
       "      <th>Year</th>\n",
       "      <th></th>\n",
       "      <th></th>\n",
       "      <th></th>\n",
       "      <th></th>\n",
       "      <th></th>\n",
       "      <th></th>\n",
       "      <th></th>\n",
       "      <th></th>\n",
       "      <th></th>\n",
       "      <th></th>\n",
       "      <th></th>\n",
       "    </tr>\n",
       "  </thead>\n",
       "  <tbody>\n",
       "    <tr>\n",
       "      <th>2009</th>\n",
       "      <td>27879.54</td>\n",
       "      <td>2801.83</td>\n",
       "      <td>11581.32</td>\n",
       "      <td>91549</td>\n",
       "      <td>109294</td>\n",
       "      <td>94648</td>\n",
       "      <td>147233</td>\n",
       "      <td>191421</td>\n",
       "      <td>148390</td>\n",
       "      <td>23667.69</td>\n",
       "      <td>0</td>\n",
       "    </tr>\n",
       "    <tr>\n",
       "      <th>2010</th>\n",
       "      <td>81004.43</td>\n",
       "      <td>61217.99</td>\n",
       "      <td>57413.27</td>\n",
       "      <td>147348</td>\n",
       "      <td>368864</td>\n",
       "      <td>482449</td>\n",
       "      <td>444337</td>\n",
       "      <td>514238</td>\n",
       "      <td>348735</td>\n",
       "      <td>94885.25</td>\n",
       "      <td>0</td>\n",
       "    </tr>\n",
       "    <tr>\n",
       "      <th>2011</th>\n",
       "      <td>497830.93</td>\n",
       "      <td>499044.04</td>\n",
       "      <td>499014.50</td>\n",
       "      <td>1606301</td>\n",
       "      <td>1846459</td>\n",
       "      <td>1865715</td>\n",
       "      <td>1088931</td>\n",
       "      <td>1568172</td>\n",
       "      <td>537051</td>\n",
       "      <td>118252.22</td>\n",
       "      <td>0</td>\n",
       "    </tr>\n",
       "    <tr>\n",
       "      <th>2012</th>\n",
       "      <td>402861.03</td>\n",
       "      <td>1007652.65</td>\n",
       "      <td>1120123.39</td>\n",
       "      <td>1535412</td>\n",
       "      <td>2428590</td>\n",
       "      <td>3052017</td>\n",
       "      <td>2706721</td>\n",
       "      <td>2664818</td>\n",
       "      <td>820880</td>\n",
       "      <td>154914.19</td>\n",
       "      <td>0</td>\n",
       "    </tr>\n",
       "    <tr>\n",
       "      <th>2013</th>\n",
       "      <td>3638.36</td>\n",
       "      <td>414156.56</td>\n",
       "      <td>502092.80</td>\n",
       "      <td>464155</td>\n",
       "      <td>393766</td>\n",
       "      <td>267927</td>\n",
       "      <td>161089</td>\n",
       "      <td>105323</td>\n",
       "      <td>88527</td>\n",
       "      <td>41869.42</td>\n",
       "      <td>0</td>\n",
       "    </tr>\n",
       "    <tr>\n",
       "      <th>2014</th>\n",
       "      <td>0.00</td>\n",
       "      <td>0.00</td>\n",
       "      <td>0.00</td>\n",
       "      <td>0</td>\n",
       "      <td>0</td>\n",
       "      <td>0</td>\n",
       "      <td>0</td>\n",
       "      <td>0</td>\n",
       "      <td>0</td>\n",
       "      <td>0.00</td>\n",
       "      <td>0</td>\n",
       "    </tr>\n",
       "  </tbody>\n",
       "</table>\n",
       "</div>"
      ],
      "text/plain": [
       "             LP_GrossPrincipalLoss                                            \\\n",
       "ProsperScore                  1.0         2.0         3.0      4.0      5.0    \n",
       "Year                                                                           \n",
       "2009                      27879.54     2801.83    11581.32    91549   109294   \n",
       "2010                      81004.43    61217.99    57413.27   147348   368864   \n",
       "2011                     497830.93   499044.04   499014.50  1606301  1846459   \n",
       "2012                     402861.03  1007652.65  1120123.39  1535412  2428590   \n",
       "2013                       3638.36   414156.56   502092.80   464155   393766   \n",
       "2014                          0.00        0.00        0.00        0        0   \n",
       "\n",
       "                                                                 \n",
       "ProsperScore     6.0      7.0      8.0     9.0        10.0 11.0  \n",
       "Year                                                             \n",
       "2009            94648   147233   191421  148390   23667.69    0  \n",
       "2010           482449   444337   514238  348735   94885.25    0  \n",
       "2011          1865715  1088931  1568172  537051  118252.22    0  \n",
       "2012          3052017  2706721  2664818  820880  154914.19    0  \n",
       "2013           267927   161089   105323   88527   41869.42    0  \n",
       "2014                0        0        0       0       0.00    0  "
      ]
     },
     "execution_count": 153,
     "metadata": {},
     "output_type": "execute_result"
    }
   ],
   "source": [
    "#gross principal losses by vintage(origination date) and prosper credit score.\n",
    "df.pivot_table(values=['LP_GrossPrincipalLoss'],index=['Year'],columns=['ProsperScore'], fill_value=0, aggfunc=np.sum)\n"
   ]
  },
  {
   "cell_type": "code",
   "execution_count": 154,
   "metadata": {
    "collapsed": false
   },
   "outputs": [],
   "source": [
    "#this is where we begin to clean up the data, selecting features\n",
    "#with the purpose of creating a model to predict bad loans\n"
   ]
  },
  {
   "cell_type": "code",
   "execution_count": 155,
   "metadata": {
    "collapsed": false
   },
   "outputs": [
    {
     "data": {
      "text/plain": [
       "ListingKey                              0\n",
       "ListingNumber                           0\n",
       "ListingCreationDate                     0\n",
       "CreditGrade                         84984\n",
       "Term                                    0\n",
       "LoanStatus                              0\n",
       "ClosedDate                          58848\n",
       "BorrowerAPR                            25\n",
       "BorrowerRate                            0\n",
       "LenderYield                             0\n",
       "EstimatedEffectiveYield             29084\n",
       "EstimatedLoss                       29084\n",
       "EstimatedReturn                     29084\n",
       "ProsperRating (numeric)             29084\n",
       "ProsperRating (Alpha)               29084\n",
       "ProsperScore                        29084\n",
       "ListingCategory (numeric)               0\n",
       "BorrowerState                        5515\n",
       "Occupation                           3588\n",
       "EmploymentStatus                     2255\n",
       "EmploymentStatusDuration             7625\n",
       "IsBorrowerHomeowner                     0\n",
       "CurrentlyInGroup                        0\n",
       "GroupKey                           100596\n",
       "DateCreditPulled                        0\n",
       "CreditScoreRangeLower                 591\n",
       "CreditScoreRangeUpper                 591\n",
       "FirstRecordedCreditLine               697\n",
       "CurrentCreditLines                   7604\n",
       "OpenCreditLines                      7604\n",
       "                                    ...  \n",
       "ProsperPaymentsOneMonthPlusLate     91852\n",
       "ProsperPrincipalBorrowed            91852\n",
       "ProsperPrincipalOutstanding         91852\n",
       "ScorexChangeAtTimeOfListing         95009\n",
       "LoanCurrentDaysDelinquent               0\n",
       "LoanFirstDefaultedCycleNumber       96985\n",
       "LoanMonthsSinceOrigination              0\n",
       "LoanNumber                              0\n",
       "LoanOriginalAmount                      0\n",
       "LoanOriginationDate                     0\n",
       "LoanOriginationQuarter                  0\n",
       "MemberKey                               0\n",
       "MonthlyLoanPayment                      0\n",
       "LP_CustomerPayments                     0\n",
       "LP_CustomerPrincipalPayments            0\n",
       "LP_InterestandFees                      0\n",
       "LP_ServiceFees                          0\n",
       "LP_CollectionFees                       0\n",
       "LP_GrossPrincipalLoss                   0\n",
       "LP_NetPrincipalLoss                     0\n",
       "LP_NonPrincipalRecoverypayments         0\n",
       "PercentFunded                           0\n",
       "Recommendations                         0\n",
       "InvestmentFromFriendsCount              0\n",
       "InvestmentFromFriendsAmount             0\n",
       "Investors                               0\n",
       "ClosingFeePercent                       0\n",
       "ClosingFeeDollar                        0\n",
       "Year                                    0\n",
       "TotalFeeDollar                          0\n",
       "dtype: int64"
      ]
     },
     "execution_count": 155,
     "metadata": {},
     "output_type": "execute_result"
    }
   ],
   "source": [
    "#check for missing values\n",
    "#can conclude from variable definitions 29084 out of 113937 loans were made before July 2009\n",
    "df.apply(lambda x: sum(x.isnull()),axis=0) "
   ]
  },
  {
   "cell_type": "code",
   "execution_count": 156,
   "metadata": {
    "collapsed": false
   },
   "outputs": [],
   "source": [
    "#filter out loans without prosper score, basically older loans\n",
    "scored = df[~df.ProsperScore.isnull()]"
   ]
  },
  {
   "cell_type": "code",
   "execution_count": 157,
   "metadata": {
    "collapsed": false
   },
   "outputs": [],
   "source": [
    "scored = scored[['Term','LoanStatus','ListingCreationDate','BorrowerAPR','ProsperScore', \\\n",
    "                 'EmploymentStatus', 'IsBorrowerHomeowner', 'CurrentDelinquencies', \\\n",
    "                 'StatedMonthlyIncome','LoanOriginalAmount','LoanOriginationDate']]"
   ]
  },
  {
   "cell_type": "code",
   "execution_count": 158,
   "metadata": {
    "collapsed": false
   },
   "outputs": [
    {
     "data": {
      "text/plain": [
       "Term                    0\n",
       "LoanStatus              0\n",
       "ListingCreationDate     0\n",
       "BorrowerAPR             0\n",
       "ProsperScore            0\n",
       "EmploymentStatus        0\n",
       "IsBorrowerHomeowner     0\n",
       "CurrentDelinquencies    0\n",
       "StatedMonthlyIncome     0\n",
       "LoanOriginalAmount      0\n",
       "LoanOriginationDate     0\n",
       "dtype: int64"
      ]
     },
     "execution_count": 158,
     "metadata": {},
     "output_type": "execute_result"
    }
   ],
   "source": [
    "scored.apply(lambda x: sum(x.isnull()),axis=0) "
   ]
  },
  {
   "cell_type": "code",
   "execution_count": 159,
   "metadata": {
    "collapsed": false
   },
   "outputs": [
    {
     "data": {
      "text/plain": [
       "Term                             int64\n",
       "LoanStatus                      object\n",
       "ListingCreationDate             object\n",
       "BorrowerAPR                    float64\n",
       "ProsperScore                   float64\n",
       "EmploymentStatus                object\n",
       "IsBorrowerHomeowner               bool\n",
       "CurrentDelinquencies           float64\n",
       "StatedMonthlyIncome            float64\n",
       "LoanOriginalAmount               int64\n",
       "LoanOriginationDate     datetime64[ns]\n",
       "dtype: object"
      ]
     },
     "execution_count": 159,
     "metadata": {},
     "output_type": "execute_result"
    }
   ],
   "source": [
    "scored.dtypes"
   ]
  },
  {
   "cell_type": "code",
   "execution_count": 160,
   "metadata": {
    "collapsed": false
   },
   "outputs": [
    {
     "data": {
      "text/html": [
       "<div>\n",
       "<table border=\"1\" class=\"dataframe\">\n",
       "  <thead>\n",
       "    <tr style=\"text-align: right;\">\n",
       "      <th></th>\n",
       "      <th>Term</th>\n",
       "    </tr>\n",
       "    <tr>\n",
       "      <th>LoanStatus</th>\n",
       "      <th></th>\n",
       "    </tr>\n",
       "  </thead>\n",
       "  <tbody>\n",
       "    <tr>\n",
       "      <th>Chargedoff</th>\n",
       "      <td>5336</td>\n",
       "    </tr>\n",
       "    <tr>\n",
       "      <th>Completed</th>\n",
       "      <td>19664</td>\n",
       "    </tr>\n",
       "    <tr>\n",
       "      <th>Current</th>\n",
       "      <td>56576</td>\n",
       "    </tr>\n",
       "    <tr>\n",
       "      <th>Defaulted</th>\n",
       "      <td>1005</td>\n",
       "    </tr>\n",
       "    <tr>\n",
       "      <th>FinalPaymentInProgress</th>\n",
       "      <td>205</td>\n",
       "    </tr>\n",
       "    <tr>\n",
       "      <th>Past Due (1-15 days)</th>\n",
       "      <td>806</td>\n",
       "    </tr>\n",
       "    <tr>\n",
       "      <th>Past Due (16-30 days)</th>\n",
       "      <td>265</td>\n",
       "    </tr>\n",
       "    <tr>\n",
       "      <th>Past Due (31-60 days)</th>\n",
       "      <td>363</td>\n",
       "    </tr>\n",
       "    <tr>\n",
       "      <th>Past Due (61-90 days)</th>\n",
       "      <td>313</td>\n",
       "    </tr>\n",
       "    <tr>\n",
       "      <th>Past Due (91-120 days)</th>\n",
       "      <td>304</td>\n",
       "    </tr>\n",
       "    <tr>\n",
       "      <th>Past Due (&gt;120 days)</th>\n",
       "      <td>16</td>\n",
       "    </tr>\n",
       "  </tbody>\n",
       "</table>\n",
       "</div>"
      ],
      "text/plain": [
       "                         Term\n",
       "LoanStatus                   \n",
       "Chargedoff               5336\n",
       "Completed               19664\n",
       "Current                 56576\n",
       "Defaulted                1005\n",
       "FinalPaymentInProgress    205\n",
       "Past Due (1-15 days)      806\n",
       "Past Due (16-30 days)     265\n",
       "Past Due (31-60 days)     363\n",
       "Past Due (61-90 days)     313\n",
       "Past Due (91-120 days)    304\n",
       "Past Due (>120 days)       16"
      ]
     },
     "execution_count": 160,
     "metadata": {},
     "output_type": "execute_result"
    }
   ],
   "source": [
    "#Simplify loanstatuses  Cancelled Completed Current FinalPaymentInProgress = 0\n",
    "scored.pivot_table(values=['Term'],index=['LoanStatus'], fill_value=0, aggfunc=len)\n"
   ]
  },
  {
   "cell_type": "code",
   "execution_count": 161,
   "metadata": {
    "collapsed": false
   },
   "outputs": [],
   "source": [
    "#scored['LoanStatus'].map(lambda x: 0 if x=='Cancelled' else 1).astype(int)\n",
    "def isBadLoan(status):\n",
    "    if any([status == 'Cancelled', status == 'Completed' , \\\n",
    "           status == 'Current', status == 'FinalPaymentInProgress']):\n",
    "        return 0\n",
    "    else:\n",
    "        return 1\n"
   ]
  },
  {
   "cell_type": "code",
   "execution_count": 162,
   "metadata": {
    "collapsed": false
   },
   "outputs": [
    {
     "data": {
      "text/html": [
       "<div>\n",
       "<table border=\"1\" class=\"dataframe\">\n",
       "  <thead>\n",
       "    <tr style=\"text-align: right;\">\n",
       "      <th></th>\n",
       "      <th>Term</th>\n",
       "    </tr>\n",
       "    <tr>\n",
       "      <th>isBadLoan</th>\n",
       "      <th></th>\n",
       "    </tr>\n",
       "  </thead>\n",
       "  <tbody>\n",
       "    <tr>\n",
       "      <th>0</th>\n",
       "      <td>76445</td>\n",
       "    </tr>\n",
       "    <tr>\n",
       "      <th>1</th>\n",
       "      <td>8408</td>\n",
       "    </tr>\n",
       "  </tbody>\n",
       "</table>\n",
       "</div>"
      ],
      "text/plain": [
       "            Term\n",
       "isBadLoan       \n",
       "0          76445\n",
       "1           8408"
      ]
     },
     "execution_count": 162,
     "metadata": {},
     "output_type": "execute_result"
    }
   ],
   "source": [
    "scored['isBadLoan'] = scored['LoanStatus'].apply(isBadLoan)\n",
    "scored.pivot_table(values=['Term'],index=['isBadLoan'], fill_value=0, aggfunc=len)\n"
   ]
  },
  {
   "cell_type": "code",
   "execution_count": 163,
   "metadata": {
    "collapsed": false
   },
   "outputs": [
    {
     "data": {
      "text/html": [
       "<div>\n",
       "<table border=\"1\" class=\"dataframe\">\n",
       "  <thead>\n",
       "    <tr style=\"text-align: right;\">\n",
       "      <th></th>\n",
       "      <th>Term</th>\n",
       "      <th>LoanStatus</th>\n",
       "      <th>ListingCreationDate</th>\n",
       "      <th>BorrowerAPR</th>\n",
       "      <th>ProsperScore</th>\n",
       "      <th>EmploymentStatus</th>\n",
       "      <th>IsBorrowerHomeowner</th>\n",
       "      <th>CurrentDelinquencies</th>\n",
       "      <th>StatedMonthlyIncome</th>\n",
       "      <th>LoanOriginalAmount</th>\n",
       "      <th>LoanOriginationDate</th>\n",
       "      <th>isBadLoan</th>\n",
       "      <th>OriginationTime</th>\n",
       "    </tr>\n",
       "  </thead>\n",
       "  <tbody>\n",
       "    <tr>\n",
       "      <th>1</th>\n",
       "      <td>36</td>\n",
       "      <td>Current</td>\n",
       "      <td>2014-02-27 08:28:07.900</td>\n",
       "      <td>0.12016</td>\n",
       "      <td>7.0</td>\n",
       "      <td>Employed</td>\n",
       "      <td>False</td>\n",
       "      <td>0.0</td>\n",
       "      <td>6125.000000</td>\n",
       "      <td>10000</td>\n",
       "      <td>2014-03-03</td>\n",
       "      <td>0</td>\n",
       "      <td>3</td>\n",
       "    </tr>\n",
       "    <tr>\n",
       "      <th>3</th>\n",
       "      <td>36</td>\n",
       "      <td>Current</td>\n",
       "      <td>2012-10-22 11:02:35.010</td>\n",
       "      <td>0.12528</td>\n",
       "      <td>9.0</td>\n",
       "      <td>Employed</td>\n",
       "      <td>True</td>\n",
       "      <td>4.0</td>\n",
       "      <td>2875.000000</td>\n",
       "      <td>10000</td>\n",
       "      <td>2012-11-01</td>\n",
       "      <td>0</td>\n",
       "      <td>9</td>\n",
       "    </tr>\n",
       "    <tr>\n",
       "      <th>4</th>\n",
       "      <td>36</td>\n",
       "      <td>Current</td>\n",
       "      <td>2013-09-14 18:38:39.097</td>\n",
       "      <td>0.24614</td>\n",
       "      <td>4.0</td>\n",
       "      <td>Employed</td>\n",
       "      <td>True</td>\n",
       "      <td>0.0</td>\n",
       "      <td>9583.333333</td>\n",
       "      <td>15000</td>\n",
       "      <td>2013-09-20</td>\n",
       "      <td>0</td>\n",
       "      <td>5</td>\n",
       "    </tr>\n",
       "    <tr>\n",
       "      <th>5</th>\n",
       "      <td>60</td>\n",
       "      <td>Current</td>\n",
       "      <td>2013-12-14 08:26:37.093</td>\n",
       "      <td>0.15425</td>\n",
       "      <td>10.0</td>\n",
       "      <td>Employed</td>\n",
       "      <td>True</td>\n",
       "      <td>0.0</td>\n",
       "      <td>8333.333333</td>\n",
       "      <td>15000</td>\n",
       "      <td>2013-12-24</td>\n",
       "      <td>0</td>\n",
       "      <td>9</td>\n",
       "    </tr>\n",
       "    <tr>\n",
       "      <th>6</th>\n",
       "      <td>36</td>\n",
       "      <td>Current</td>\n",
       "      <td>2013-04-12 09:52:56.147</td>\n",
       "      <td>0.31032</td>\n",
       "      <td>2.0</td>\n",
       "      <td>Employed</td>\n",
       "      <td>False</td>\n",
       "      <td>0.0</td>\n",
       "      <td>2083.333333</td>\n",
       "      <td>3000</td>\n",
       "      <td>2013-04-18</td>\n",
       "      <td>0</td>\n",
       "      <td>5</td>\n",
       "    </tr>\n",
       "  </tbody>\n",
       "</table>\n",
       "</div>"
      ],
      "text/plain": [
       "   Term LoanStatus     ListingCreationDate  BorrowerAPR  ProsperScore  \\\n",
       "1    36    Current 2014-02-27 08:28:07.900      0.12016           7.0   \n",
       "3    36    Current 2012-10-22 11:02:35.010      0.12528           9.0   \n",
       "4    36    Current 2013-09-14 18:38:39.097      0.24614           4.0   \n",
       "5    60    Current 2013-12-14 08:26:37.093      0.15425          10.0   \n",
       "6    36    Current 2013-04-12 09:52:56.147      0.31032           2.0   \n",
       "\n",
       "  EmploymentStatus IsBorrowerHomeowner  CurrentDelinquencies  \\\n",
       "1         Employed               False                   0.0   \n",
       "3         Employed                True                   4.0   \n",
       "4         Employed                True                   0.0   \n",
       "5         Employed                True                   0.0   \n",
       "6         Employed               False                   0.0   \n",
       "\n",
       "   StatedMonthlyIncome  LoanOriginalAmount LoanOriginationDate  isBadLoan  \\\n",
       "1          6125.000000               10000          2014-03-03          0   \n",
       "3          2875.000000               10000          2012-11-01          0   \n",
       "4          9583.333333               15000          2013-09-20          0   \n",
       "5          8333.333333               15000          2013-12-24          0   \n",
       "6          2083.333333                3000          2013-04-18          0   \n",
       "\n",
       "   OriginationTime  \n",
       "1                3  \n",
       "3                9  \n",
       "4                5  \n",
       "5                9  \n",
       "6                5  "
      ]
     },
     "execution_count": 163,
     "metadata": {},
     "output_type": "execute_result"
    }
   ],
   "source": [
    "#Create originationtime variable: # of days from listing to funded\n",
    "scored['ListingCreationDate'] = pd.to_datetime(scored['ListingCreationDate'])\n",
    "scored['OriginationTime'] = (scored['LoanOriginationDate'] - scored['ListingCreationDate']).dt.days\n",
    "scored.head(5)"
   ]
  },
  {
   "cell_type": "code",
   "execution_count": 164,
   "metadata": {
    "collapsed": false
   },
   "outputs": [
    {
     "data": {
      "text/html": [
       "<div>\n",
       "<table border=\"1\" class=\"dataframe\">\n",
       "  <thead>\n",
       "    <tr style=\"text-align: right;\">\n",
       "      <th></th>\n",
       "      <th>Term</th>\n",
       "    </tr>\n",
       "    <tr>\n",
       "      <th>EmploymentStatus</th>\n",
       "      <th></th>\n",
       "    </tr>\n",
       "  </thead>\n",
       "  <tbody>\n",
       "    <tr>\n",
       "      <th>Employed</th>\n",
       "      <td>67310</td>\n",
       "    </tr>\n",
       "    <tr>\n",
       "      <th>Full-time</th>\n",
       "      <td>7927</td>\n",
       "    </tr>\n",
       "    <tr>\n",
       "      <th>Not employed</th>\n",
       "      <td>649</td>\n",
       "    </tr>\n",
       "    <tr>\n",
       "      <th>Other</th>\n",
       "      <td>3806</td>\n",
       "    </tr>\n",
       "    <tr>\n",
       "      <th>Part-time</th>\n",
       "      <td>256</td>\n",
       "    </tr>\n",
       "    <tr>\n",
       "      <th>Retired</th>\n",
       "      <td>367</td>\n",
       "    </tr>\n",
       "    <tr>\n",
       "      <th>Self-employed</th>\n",
       "      <td>4538</td>\n",
       "    </tr>\n",
       "  </tbody>\n",
       "</table>\n",
       "</div>"
      ],
      "text/plain": [
       "                   Term\n",
       "EmploymentStatus       \n",
       "Employed          67310\n",
       "Full-time          7927\n",
       "Not employed        649\n",
       "Other              3806\n",
       "Part-time           256\n",
       "Retired             367\n",
       "Self-employed      4538"
      ]
     },
     "execution_count": 164,
     "metadata": {},
     "output_type": "execute_result"
    }
   ],
   "source": [
    "#Fix employment status\n",
    "scored.pivot_table(values=['Term'],index=['EmploymentStatus'], fill_value=0, aggfunc=len)\n"
   ]
  },
  {
   "cell_type": "code",
   "execution_count": 165,
   "metadata": {
    "collapsed": false
   },
   "outputs": [
    {
     "data": {
      "text/plain": [
       "Term                             int64\n",
       "LoanStatus                      object\n",
       "ListingCreationDate     datetime64[ns]\n",
       "BorrowerAPR                    float64\n",
       "ProsperScore                   float64\n",
       "EmploymentStatus                object\n",
       "IsBorrowerHomeowner               bool\n",
       "CurrentDelinquencies           float64\n",
       "StatedMonthlyIncome            float64\n",
       "LoanOriginalAmount               int64\n",
       "LoanOriginationDate     datetime64[ns]\n",
       "isBadLoan                        int64\n",
       "OriginationTime                  int64\n",
       "dtype: object"
      ]
     },
     "execution_count": 165,
     "metadata": {},
     "output_type": "execute_result"
    }
   ],
   "source": [
    "scored.dtypes\n"
   ]
  },
  {
   "cell_type": "code",
   "execution_count": 166,
   "metadata": {
    "collapsed": false
   },
   "outputs": [],
   "source": [
    "scored = scored.drop(['LoanStatus', 'ListingCreationDate','EmploymentStatus','LoanOriginationDate'], axis=1)\n"
   ]
  },
  {
   "cell_type": "code",
   "execution_count": 167,
   "metadata": {
    "collapsed": false
   },
   "outputs": [
    {
     "data": {
      "text/plain": [
       "Term                      int64\n",
       "BorrowerAPR             float64\n",
       "ProsperScore            float64\n",
       "IsBorrowerHomeowner        bool\n",
       "CurrentDelinquencies    float64\n",
       "StatedMonthlyIncome     float64\n",
       "LoanOriginalAmount        int64\n",
       "isBadLoan                 int64\n",
       "OriginationTime           int64\n",
       "dtype: object"
      ]
     },
     "execution_count": 167,
     "metadata": {},
     "output_type": "execute_result"
    }
   ],
   "source": [
    "scored.dtypes\n"
   ]
  },
  {
   "cell_type": "code",
   "execution_count": 168,
   "metadata": {
    "collapsed": false
   },
   "outputs": [
    {
     "data": {
      "text/plain": [
       "isBadLoan                 int64\n",
       "OriginationTime           int64\n",
       "Term                      int64\n",
       "BorrowerAPR             float64\n",
       "ProsperScore            float64\n",
       "IsBorrowerHomeowner        bool\n",
       "CurrentDelinquencies    float64\n",
       "StatedMonthlyIncome     float64\n",
       "LoanOriginalAmount        int64\n",
       "dtype: object"
      ]
     },
     "execution_count": 168,
     "metadata": {},
     "output_type": "execute_result"
    }
   ],
   "source": [
    "scored = scored[['isBadLoan', 'OriginationTime','Term',\\\n",
    " 'BorrowerAPR', 'ProsperScore', 'IsBorrowerHomeowner',\\\n",
    " 'CurrentDelinquencies', 'StatedMonthlyIncome', 'LoanOriginalAmount']]\n",
    "scored.dtypes"
   ]
  },
  {
   "cell_type": "code",
   "execution_count": null,
   "metadata": {
    "collapsed": false
   },
   "outputs": [],
   "source": []
  },
  {
   "cell_type": "code",
   "execution_count": 169,
   "metadata": {
    "collapsed": false
   },
   "outputs": [],
   "source": [
    "# train on 75% of random data points\n",
    "#scored['is_train'] = np.random.uniform(0, 1, len(scored)) <= .75\n",
    "#train, test = scored[scored['is_train']==True], scored[scored['is_train']==False]\n",
    "#features = scored.columns[1:9] #skip first and last column\n",
    "clf = RandomForestClassifier(n_estimators=100)\n",
    "\n",
    "from sklearn.cross_validation import train_test_split\n",
    "features = scored.columns[1:9] #skip first column\n"
   ]
  },
  {
   "cell_type": "code",
   "execution_count": 170,
   "metadata": {
    "collapsed": false,
    "scrolled": true
   },
   "outputs": [
    {
     "data": {
      "text/plain": [
       "0.89264038654174771"
      ]
     },
     "execution_count": 170,
     "metadata": {},
     "output_type": "execute_result"
    }
   ],
   "source": [
    "# Training data features converted to numpy\n",
    "train_features = scored[features].values\n",
    "train_target = scored['isBadLoan'].values\n",
    "\n",
    "# Fit the model to our training data\n",
    "#clf = clf.fit(train_features, train_target)\n",
    "#score = clf.score(train_features, train_target)\n",
    "#\"Mean accuracy of Random Forest: {0}\".format(score)\n",
    "\n",
    "# Split 80-20 train vs test data\n",
    "train_x, test_x, train_y, test_y = train_test_split(train_features, \n",
    "                                                    train_target, \n",
    "                                                    test_size=0.20, \n",
    "                                                    random_state=0)\n",
    "#print (train_features.shape, train_target.shape)\n",
    "#print (train_x.shape, train_y.shape)\n",
    "#print (test_x.shape, test_y.shape)\n",
    "\n",
    "#fit the model and score it using test data\n",
    "clf = clf.fit(train_x, train_y)\n",
    "#clf.score(test_x, test_y)\n"
   ]
  },
  {
   "cell_type": "code",
   "execution_count": 194,
   "metadata": {
    "collapsed": false
   },
   "outputs": [
    {
     "name": "stdout",
     "output_type": "stream",
     "text": [
      "Random Forest Accuracy Score= 0.89264038654174771\n"
     ]
    }
   ],
   "source": [
    "predict_y = clf.predict(test_x)\n",
    "\n",
    "from sklearn.metrics import accuracy_score\n",
    "print (\"Random Forest Accuracy Score= %.17f\" % (accuracy_score(test_y, predict_y)))"
   ]
  },
  {
   "cell_type": "code",
   "execution_count": 172,
   "metadata": {
    "collapsed": false
   },
   "outputs": [
    {
     "data": {
      "text/plain": [
       "array([   1,    1,    1, ..., 1732, 1732, 1732], dtype=int64)"
      ]
     },
     "execution_count": 172,
     "metadata": {},
     "output_type": "execute_result"
    }
   ],
   "source": [
    "test_y.cumsum() #there are 1732 bad loans in test data set"
   ]
  },
  {
   "cell_type": "code",
   "execution_count": 174,
   "metadata": {
    "collapsed": false
   },
   "outputs": [],
   "source": [
    "from sklearn import metrics\n"
   ]
  },
  {
   "cell_type": "code",
   "execution_count": 184,
   "metadata": {
    "collapsed": false
   },
   "outputs": [],
   "source": [
    "#https://notmatthancock.github.io/2015/10/28/confusion-matrix.html\n",
    "\n",
    "def show_confusion_matrix(C,class_labels=['0','1']):\n",
    "    \"\"\"\n",
    "    C: ndarray, shape (2,2) as given by scikit-learn confusion_matrix function\n",
    "    class_labels: list of strings, default simply labels 0 and 1.\n",
    "\n",
    "    Draws confusion matrix with associated metrics.\n",
    "    \"\"\"\n",
    "    import matplotlib.pyplot as plt\n",
    "    import numpy as np\n",
    "    \n",
    "    assert C.shape == (2,2), \"Confusion matrix should be from binary classification only.\"\n",
    "    \n",
    "    # true negative, false positive, etc...\n",
    "    tn = C[0,0]; fp = C[0,1]; fn = C[1,0]; tp = C[1,1];\n",
    "\n",
    "    NP = fn+tp # Num positive examples\n",
    "    NN = tn+fp # Num negative examples\n",
    "    N  = NP+NN\n",
    "\n",
    "    fig = plt.figure(figsize=(8,8))\n",
    "    ax  = fig.add_subplot(111)\n",
    "    ax.imshow(C, interpolation='nearest', cmap=plt.cm.gray)\n",
    "\n",
    "    # Draw the grid boxes\n",
    "    ax.set_xlim(-0.5,2.5)\n",
    "    ax.set_ylim(2.5,-0.5)\n",
    "    ax.plot([-0.5,2.5],[0.5,0.5], '-k', lw=2)\n",
    "    ax.plot([-0.5,2.5],[1.5,1.5], '-k', lw=2)\n",
    "    ax.plot([0.5,0.5],[-0.5,2.5], '-k', lw=2)\n",
    "    ax.plot([1.5,1.5],[-0.5,2.5], '-k', lw=2)\n",
    "\n",
    "    # Set xlabels\n",
    "    ax.set_xlabel('Hypothesized class', fontsize=16)\n",
    "    ax.set_xticks([0,1,2])\n",
    "    ax.set_xticklabels(class_labels + [''])\n",
    "    ax.xaxis.set_label_position('top')\n",
    "    ax.xaxis.tick_top()\n",
    "    # These coordinate might require some tinkering. Ditto for y, below.\n",
    "    ax.xaxis.set_label_coords(0.34,1.06)\n",
    "\n",
    "    # Set ylabels\n",
    "    ax.set_ylabel('True class', fontsize=16, rotation=90)\n",
    "    ax.set_yticklabels(class_labels + [''],rotation=90)\n",
    "    ax.set_yticks([0,1,2])\n",
    "    ax.yaxis.set_label_coords(-0.09,0.65)\n",
    "\n",
    "\n",
    "    # Fill in initial metrics: tp, tn, etc...\n",
    "    ax.text(0,0,\n",
    "            'True Neg: %d\\n(Num Neg: %d)'%(tn,NN),\n",
    "            va='center',\n",
    "            ha='center',\n",
    "            bbox=dict(fc='w',boxstyle='round,pad=1'))\n",
    "\n",
    "    ax.text(0,1,\n",
    "            'False Neg: %d'%fn,\n",
    "            va='center',\n",
    "            ha='center',\n",
    "            bbox=dict(fc='w',boxstyle='round,pad=1'))\n",
    "\n",
    "    ax.text(1,0,\n",
    "            'False Pos: %d'%fp,\n",
    "            va='center',\n",
    "            ha='center',\n",
    "            bbox=dict(fc='w',boxstyle='round,pad=1'))\n",
    "\n",
    "\n",
    "    ax.text(1,1,\n",
    "            'True Pos: %d\\n(Num Pos: %d)'%(tp,NP),\n",
    "            va='center',\n",
    "            ha='center',\n",
    "            bbox=dict(fc='w',boxstyle='round,pad=1'))\n",
    "\n",
    "    # Fill in secondary metrics: accuracy, true pos rate, etc...\n",
    "    ax.text(2,0,\n",
    "            'False Pos Rate: %.2f'%(fp / (fp+tn+0.)),\n",
    "            va='center',\n",
    "            ha='center',\n",
    "            bbox=dict(fc='w',boxstyle='round,pad=1'))\n",
    "\n",
    "    ax.text(2,1,\n",
    "            'True Pos Rate (Recall): %.2f'%(tp / (tp+fn+0.)),\n",
    "            va='center',\n",
    "            ha='center',\n",
    "            bbox=dict(fc='w',boxstyle='round,pad=1'))\n",
    "\n",
    "    ax.text(2,2,\n",
    "            'Accuracy: %.2f'%((tp+tn+0.)/N),\n",
    "            va='center',\n",
    "            ha='center',\n",
    "            bbox=dict(fc='w',boxstyle='round,pad=1'))\n",
    "\n",
    "    ax.text(0,2,\n",
    "            'Neg Pre Val: %.2f'%(1-fn/(fn+tn+0.)),\n",
    "            va='center',\n",
    "            ha='center',\n",
    "            bbox=dict(fc='w',boxstyle='round,pad=1'))\n",
    "\n",
    "    ax.text(1,2,\n",
    "            'Pos Pred Val (Precision): %.2f'%(tp/(tp+fp+0.)),\n",
    "            va='center',\n",
    "            ha='center',\n",
    "            bbox=dict(fc='w',boxstyle='round,pad=1'))\n",
    "\n",
    "\n",
    "    plt.tight_layout()\n",
    "    plt.show()\n"
   ]
  },
  {
   "cell_type": "code",
   "execution_count": 185,
   "metadata": {
    "collapsed": false
   },
   "outputs": [],
   "source": [
    "confusion_matrix = metrics.confusion_matrix(test_y, predict_y)"
   ]
  },
  {
   "cell_type": "code",
   "execution_count": 186,
   "metadata": {
    "collapsed": false
   },
   "outputs": [
    {
     "data": {
      "image/png": "[encoded data removed]",
      "text/plain": [
       "<matplotlib.figure.Figure at 0x25f632e8>"
      ]
     },
     "metadata": {},
     "output_type": "display_data"
    }
   ],
   "source": [
    "show_confusion_matrix(confusion_matrix, ['Class 0', 'Class 1'])"
   ]
  },
  {
   "cell_type": "code",
   "execution_count": 178,
   "metadata": {
    "collapsed": false
   },
   "outputs": [],
   "source": [
    "# Really bad at predicting bad loans. Out of 1732 bad loans, 85 were predicted to be bad by Random Forest.\n",
    "# Looking at the ROC Curve below, it's not much better than flipping a coin (AUC = .5)"
   ]
  },
  {
   "cell_type": "code",
   "execution_count": 188,
   "metadata": {
    "collapsed": false
   },
   "outputs": [
    {
     "data": {
      "image/png": "[encoded data removed]",
      "text/plain": [
       "<matplotlib.figure.Figure at 0x2e0532e8>"
      ]
     },
     "metadata": {},
     "output_type": "display_data"
    }
   ],
   "source": [
    "# ROC Curve\n",
    "fpr, tpr, _ = metrics.roc_curve(test_y, predict_y)\n",
    "\n",
    "plt.plot(fpr, tpr)\n",
    "# AUC\n",
    "auc = np.trapz(tpr,fpr)"
   ]
  },
  {
   "cell_type": "code",
   "execution_count": 189,
   "metadata": {
    "collapsed": false
   },
   "outputs": [
    {
     "data": {
      "text/plain": [
       "0.51879625965770648"
      ]
     },
     "execution_count": 189,
     "metadata": {},
     "output_type": "execute_result"
    }
   ],
   "source": [
    "auc #slightly better than a coin flip."
   ]
  },
  {
   "cell_type": "code",
   "execution_count": null,
   "metadata": {
    "collapsed": true
   },
   "outputs": [],
   "source": []
  },
  {
   "cell_type": "code",
   "execution_count": null,
   "metadata": {
    "collapsed": false
   },
   "outputs": [],
   "source": []
  },
  {
   "cell_type": "code",
   "execution_count": null,
   "metadata": {
    "collapsed": false
   },
   "outputs": [],
   "source": []
  },
  {
   "cell_type": "code",
   "execution_count": null,
   "metadata": {
    "collapsed": false
   },
   "outputs": [],
   "source": []
  }
 ],
 "metadata": {
  "kernelspec": {
   "display_name": "Python 2",
   "language": "python",
   "name": "python2"
  },
  "language_info": {
   "codemirror_mode": {
    "name": "ipython",
    "version": 2
   },
   "file_extension": ".py",
   "mimetype": "text/x-python",
   "name": "python",
   "nbconvert_exporter": "python",
   "pygments_lexer": "ipython2",
   "version": "2.7.11"
  }
 },
 "nbformat": 4,
 "nbformat_minor": 0
}
